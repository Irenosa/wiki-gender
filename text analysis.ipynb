{
 "cells": [
  {
   "cell_type": "code",
   "execution_count": 28,
   "metadata": {},
   "outputs": [
    {
     "name": "stderr",
     "output_type": "stream",
     "text": [
      "[nltk_data] Downloading package stopwords to /home/sofia/nltk_data...\n",
      "[nltk_data]   Package stopwords is already up-to-date!\n"
     ]
    }
   ],
   "source": [
    "from nltk.stem import PorterStemmer, WordNetLemmatizer\n",
    "import nltk\n",
    "from sklearn.feature_extraction.text import CountVectorizer, TfidfVectorizer\n",
    "from sklearn.metrics.pairwise import linear_kernel\n",
    "import string\n",
    "from nltk.corpus import stopwords\n",
    "import math\n",
    "from operator import itemgetter\n",
    "from collections import Counter\n",
    "nltk.download('stopwords')\n",
    "\n",
    "import pandas as pd\n",
    "import json\n",
    "from bs4 import BeautifulSoup\n",
    "import re"
   ]
  },
  {
   "cell_type": "code",
   "execution_count": 19,
   "metadata": {},
   "outputs": [
    {
     "data": {
      "text/html": [
       "<div>\n",
       "<style scoped>\n",
       "    .dataframe tbody tr th:only-of-type {\n",
       "        vertical-align: middle;\n",
       "    }\n",
       "\n",
       "    .dataframe tbody tr th {\n",
       "        vertical-align: top;\n",
       "    }\n",
       "\n",
       "    .dataframe thead th {\n",
       "        text-align: right;\n",
       "    }\n",
       "</style>\n",
       "<table border=\"1\" class=\"dataframe\">\n",
       "  <thead>\n",
       "    <tr style=\"text-align: right;\">\n",
       "      <th></th>\n",
       "      <th>title</th>\n",
       "      <th>label</th>\n",
       "      <th>gender</th>\n",
       "      <th>overview</th>\n",
       "    </tr>\n",
       "  </thead>\n",
       "  <tbody>\n",
       "    <tr>\n",
       "      <td>0</td>\n",
       "      <td>Abraham Lincoln</td>\n",
       "      <td>Abraham Lincoln</td>\n",
       "      <td>[Q6581097]</td>\n",
       "      <td>'''Abraham Lincoln''' (February 12, 1809 – Apr...</td>\n",
       "    </tr>\n",
       "  </tbody>\n",
       "</table>\n",
       "</div>"
      ],
      "text/plain": [
       "             title            label      gender  \\\n",
       "0  Abraham Lincoln  Abraham Lincoln  [Q6581097]   \n",
       "\n",
       "                                            overview  \n",
       "0  '''Abraham Lincoln''' (February 12, 1809 – Apr...  "
      ]
     },
     "execution_count": 19,
     "metadata": {},
     "output_type": "execute_result"
    }
   ],
   "source": [
    "FILE = \"../data/lincoln.json\"\n",
    "\n",
    "df = pd.read_json(\"data/lincoln.json\", lines=True)\n",
    "df"
   ]
  },
  {
   "cell_type": "code",
   "execution_count": 22,
   "metadata": {},
   "outputs": [
    {
     "name": "stdout",
     "output_type": "stream",
     "text": [
      "'''Abraham Lincoln''' (February 12, 1809 – April 15, 1865) was an American statesman and lawyer who served as the 16th [[president of the United States]] from March 1861 until [[assassination of Abraham Lincoln|his assassination]] in April 1865. Lincoln led the nation through the [[American Civil War]], its bloodiest war and its greatest moral, constitutional, and political crisis.<ref>{{cite book|author=William A. Pencak|title=Encyclopedia of the Veteran in America|url={{google books|plainurl=y|id=yyvmcMsNnB4C|page=222}}|year=2009|publisher=ABC-CLIO|page=222|isbn=978-0-313-08759-2|access-date=June 27, 2015}}</ref><ref>{{cite book|author1-last=Finkelman|author1-first=Paul|author2-last=Gottlieb|author2-first=Stephen E.|title=Toward a Usable Past: Liberty Under State Constitutions|url={{google books|plainurl=y|id=xJuXT1sVhFcC|page=388}}year=2009|publisher=U of Georgia Press|page=388}}</ref> He preserved the [[Union (American Civil War)|Union]], [[Thirteenth Amendment to the United States Constitution|abolished slavery]], strengthened the [[Federal government of the United States|federal government]], and modernized [[Economy of the United States|the U.S. economy]].\n",
      "\n",
      "Born in [[Kentucky]], Lincoln grew up on the [[American frontier|frontier]] in a poor family. Self-educated, he became a lawyer, [[Whig Party (United States)|Whig Party]] leader, [[Illinois]] state legislator and Congressman. In 1849, he left government to resume his law practice, but angered by the success of Democrats in opening the prairie lands to slavery, reentered politics in 1854. He became a leader in the new [[history of the United States Republican Party|Republican Party]] and gained national attention in 1858 for debating national Democratic leader [[Stephen A. Douglas]] in the [[Lincoln–Douglas debates|1858 Illinois Senate campaign]]. He then ran for President in 1860, sweeping the [[Northern United States|North]] and winning. Southern pro-slavery elements took his win as proof that the North was rejecting the [[constitutional right]]s of Southern states to practice slavery. They began the process of [[Secession|seceding from the union]]. To secure its independence, the new [[Confederate States of America]] fired on [[Fort Sumter]], one of the few U.S. forts in the South. Lincoln called up volunteers and militia to suppress the rebellion and restore the [[Union (American Civil War)|Union]].\n",
      "\n",
      "As the leader of the moderate faction of the Republican Party, Lincoln confronted [[Radical Republican]]s, who demanded harsher treatment of the South; [[War Democrats]], who rallied a large faction of former opponents into his camp; anti-war Democrats (called [[Copperhead (politics)|Copperheads]]), who despised him; and irreconcilable secessionists, who plotted his assassination. Lincoln fought the factions by pitting them against each other, by carefully distributing political patronage, and by appealing to the American people.<ref name=\"Randall1947\" />{{rp|65–87}} His [[Gettysburg Address]] became an iconic call for [[nationalism]], [[republicanism]], [[Civil and political rights|equal rights]], [[liberty]], and [[democracy]]. He suspended ''[[habeas corpus]]'', and he averted British intervention by defusing the [[Trent Affair|''Trent'' Affair]]. Lincoln closely supervised the war effort, including the selection of generals and the [[Union blockade|naval blockade]] that shut down the South's trade. As the war progressed, he maneuvered to end slavery, issuing the [[Emancipation Proclamation]] of 1863; ordering the Army to protect escaped slaves, encouraging [[Border States (American Civil War)|border states]] to outlaw slavery, and pushing through Congress the [[Thirteenth Amendment to the United States Constitution]], which outlawed slavery across the country.\n",
      "\n",
      "Lincoln managed his own [[1864 United States presidential election|re-election campaign]]. He sought to reconcile his damaged nation by avoiding retribution against the secessionists. A few days after the [[Battle of Appomattox Court House]], he was shot by [[John Wilkes Booth]], an actor and Confederate sympathizer, on April 14, 1865, and died the following day. Abraham Lincoln is remembered as the United States' martyr hero. He is consistently [[Historical rankings of Presidents of the United States#Scholar survey results|ranked]] both by scholars<ref name=\"Ranking Our Presidents\">{{cite web |url=http://history-world.org/pres.pdf |title=Ranking Our Presidents for dealing with the American Civil War, and slavery. |archiveurl=https://web.archive.org/web/20120131101450/http://history-world.org/pres.pdf |archivedate=January 31, 2012 |first=James |last=Lindgren |date=November 16, 2000|publisher= International World History Project}}</ref> and the public<ref name=\"gallup\">{{Cite web|url=https://news.gallup.com/poll/146183/Americans-Say-Reagan-Greatest-President.aspx|title=Americans Say Reagan Is the Greatest U.S. President|date=February 28, 2011|website=Gallup.com|language=en-us|access-date=February 13, 2019|archiveurl=https://web.archive.org/web/20120314210856/http://www.gallup.com/poll/146183/Americans-Say-Reagan-Greatest-President.aspx |archivedate=March 14, 2012}}</ref> as among the greatest U.S. presidents.\n",
      "\n",
      "{{Toclimit|3}}\n",
      "\n",
      "\n"
     ]
    }
   ],
   "source": [
    "print(df.iloc[0].overview)"
   ]
  },
  {
   "cell_type": "code",
   "execution_count": 29,
   "metadata": {},
   "outputs": [
    {
     "data": {
      "text/plain": [
       "'''Abraham Lincoln''' (February 12, 1809 – April 15, 1865) was an American statesman and lawyer who served as the 16th [[president of the United States]] from March 1861 until [[assassination of Abraham Lincoln|his assassination]] in April 1865. Lincoln led the nation through the [[American Civil War]], its bloodiest war and its greatest moral, constitutional, and political crisis. He preserved the [[Union (American Civil War)|Union]], [[Thirteenth Amendment to the United States Constitution|abolished slavery]], strengthened the [[Federal government of the United States|federal government]], and modernized [[Economy of the United States|the U.S. economy]].\n",
       "\n",
       "Born in [[Kentucky]], Lincoln grew up on the [[American frontier|frontier]] in a poor family. Self-educated, he became a lawyer, [[Whig Party (United States)|Whig Party]] leader, [[Illinois]] state legislator and Congressman. In 1849, he left government to resume his law practice, but angered by the success of Democrats in opening the prairie lands to slavery, reentered politics in 1854. He became a leader in the new [[history of the United States Republican Party|Republican Party]] and gained national attention in 1858 for debating national Democratic leader [[Stephen A. Douglas]] in the [[Lincoln–Douglas debates|1858 Illinois Senate campaign]]. He then ran for President in 1860, sweeping the [[Northern United States|North]] and winning. Southern pro-slavery elements took his win as proof that the North was rejecting the [[constitutional right]]s of Southern states to practice slavery. They began the process of [[Secession|seceding from the union]]. To secure its independence, the new [[Confederate States of America]] fired on [[Fort Sumter]], one of the few U.S. forts in the South. Lincoln called up volunteers and militia to suppress the rebellion and restore the [[Union (American Civil War)|Union]].\n",
       "\n",
       "As the leader of the moderate faction of the Republican Party, Lincoln confronted [[Radical Republican]]s, who demanded harsher treatment of the South; [[War Democrats]], who rallied a large faction of former opponents into his camp; anti-war Democrats (called [[Copperhead (politics)|Copperheads]]), who despised him; and irreconcilable secessionists, who plotted his assassination. Lincoln fought the factions by pitting them against each other, by carefully distributing political patronage, and by appealing to the American people.{{rp|65–87}} His [[Gettysburg Address]] became an iconic call for [[nationalism]], [[republicanism]], [[Civil and political rights|equal rights]], [[liberty]], and [[democracy]]. He suspended ''[[habeas corpus]]'', and he averted British intervention by defusing the [[Trent Affair|''Trent'' Affair]]. Lincoln closely supervised the war effort, including the selection of generals and the [[Union blockade|naval blockade]] that shut down the South's trade. As the war progressed, he maneuvered to end slavery, issuing the [[Emancipation Proclamation]] of 1863; ordering the Army to protect escaped slaves, encouraging [[Border States (American Civil War)|border states]] to outlaw slavery, and pushing through Congress the [[Thirteenth Amendment to the United States Constitution]], which outlawed slavery across the country.\n",
       "\n",
       "Lincoln managed his own [[1864 United States presidential election|re-election campaign]]. He sought to reconcile his damaged nation by avoiding retribution against the secessionists. A few days after the [[Battle of Appomattox Court House]], he was shot by [[John Wilkes Booth]], an actor and Confederate sympathizer, on April 14, 1865, and died the following day. Abraham Lincoln is remembered as the United States' martyr hero. He is consistently [[Historical rankings of Presidents of the United States#Scholar survey results|ranked]] both by scholars and the public as among the greatest U.S. presidents.\n",
       "\n",
       "{{Toclimit|3}}\n"
      ]
     },
     "execution_count": 29,
     "metadata": {},
     "output_type": "execute_result"
    }
   ],
   "source": [
    "# remove the <ref>\n",
    "overview = BeautifulSoup(df.iloc[0].overview)\n",
    "[s.extract() for s in overview('ref')]\n",
    "\n",
    "overview"
   ]
  },
  {
   "cell_type": "code",
   "execution_count": 35,
   "metadata": {},
   "outputs": [
    {
     "data": {
      "text/plain": [
       "\"'''Abraham Lincoln''' (February 12, 1809 – April 15, 1865) was an American statesman and lawyer who served as the 16th [[president of the United States]] from March 1861 until [[assassination of Abraham Lincoln|his assassination]] in April 1865. Lincoln led the nation through the [[American Civil War]], its bloodiest war and its greatest moral, constitutional, and political crisis. He preserved the [[Union (American Civil War)|Union]], [[Thirteenth Amendment to the United States Constitution|abolished slavery]], strengthened the [[Federal government of the United States|federal government]], and modernized [[Economy of the United States|the U.S. economy]].\\n\\nBorn in [[Kentucky]], Lincoln grew up on the [[American frontier|frontier]] in a poor family. Self-educated, he became a lawyer, [[Whig Party (United States)|Whig Party]] leader, [[Illinois]] state legislator and Congressman. In 1849, he left government to resume his law practice, but angered by the success of Democrats in opening the prairie lands to slavery, reentered politics in 1854. He became a leader in the new [[history of the United States Republican Party|Republican Party]] and gained national attention in 1858 for debating national Democratic leader [[Stephen A. Douglas]] in the [[Lincoln–Douglas debates|1858 Illinois Senate campaign]]. He then ran for President in 1860, sweeping the [[Northern United States|North]] and winning. Southern pro-slavery elements took his win as proof that the North was rejecting the [[constitutional right]]s of Southern states to practice slavery. They began the process of [[Secession|seceding from the union]]. To secure its independence, the new [[Confederate States of America]] fired on [[Fort Sumter]], one of the few U.S. forts in the South. Lincoln called up volunteers and militia to suppress the rebellion and restore the [[Union (American Civil War)|Union]].\\n\\nAs the leader of the moderate faction of the Republican Party, Lincoln confronted [[Radical Republican]]s, who demanded harsher treatment of the South; [[War Democrats]], who rallied a large faction of former opponents into his camp; anti-war Democrats (called [[Copperhead (politics)|Copperheads]]), who despised him; and irreconcilable secessionists, who plotted his assassination. Lincoln fought the factions by pitting them against each other, by carefully distributing political patronage, and by appealing to the American people.{{rp|65–87}} His [[Gettysburg Address]] became an iconic call for [[nationalism]], [[republicanism]], [[Civil and political rights|equal rights]], [[liberty]], and [[democracy]]. He suspended ''[[habeas corpus]]'', and he averted British intervention by defusing the [[Trent Affair|''Trent'' Affair]]. Lincoln closely supervised the war effort, including the selection of generals and the [[Union blockade|naval blockade]] that shut down the South's trade. As the war progressed, he maneuvered to end slavery, issuing the [[Emancipation Proclamation]] of 1863; ordering the Army to protect escaped slaves, encouraging [[Border States (American Civil War)|border states]] to outlaw slavery, and pushing through Congress the [[Thirteenth Amendment to the United States Constitution]], which outlawed slavery across the country.\\n\\nLincoln managed his own [[1864 United States presidential election|re-election campaign]]. He sought to reconcile his damaged nation by avoiding retribution against the secessionists. A few days after the [[Battle of Appomattox Court House]], he was shot by [[John Wilkes Booth]], an actor and Confederate sympathizer, on April 14, 1865, and died the following day. Abraham Lincoln is remembered as the United States' martyr hero. He is consistently [[Historical rankings of Presidents of the United States#Scholar survey results|ranked]] both by scholars and the public as among the greatest U.S. presidents.\\n\\n{{Toclimit|3}}\\n\\n\""
      ]
     },
     "execution_count": 35,
     "metadata": {},
     "output_type": "execute_result"
    }
   ],
   "source": [
    "# remove {{ }}\n",
    "\n",
    "overview = str(overview)\n",
    "re.sub(\"[\\{\\{].*?[\\}\\}]\", \"\", overview)\n",
    "\n",
    "# NOP didn't remove it\n",
    "overview"
   ]
  },
  {
   "cell_type": "code",
   "execution_count": null,
   "metadata": {},
   "outputs": [],
   "source": []
  }
 ],
 "metadata": {
  "kernelspec": {
   "display_name": "Python [conda env:ada] *",
   "language": "python",
   "name": "conda-env-ada-py"
  },
  "language_info": {
   "codemirror_mode": {
    "name": "ipython",
    "version": 3
   },
   "file_extension": ".py",
   "mimetype": "text/x-python",
   "name": "python",
   "nbconvert_exporter": "python",
   "pygments_lexer": "ipython3",
   "version": "3.7.4"
  }
 },
 "nbformat": 4,
 "nbformat_minor": 2
}
