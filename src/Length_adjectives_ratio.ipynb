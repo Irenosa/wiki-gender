{
 "cells": [
  {
   "cell_type": "code",
   "execution_count": 1,
   "metadata": {},
   "outputs": [],
   "source": [
    "from pyspark.sql import *\n",
    "from pyspark.sql.functions import *\n",
    "from pyspark import SparkContext\n",
    "from pyspark.sql.types import StringType\n",
    "from pyspark.sql.functions import udf\n",
    "#from createDataset.params import *\n",
    "import os\n",
    "import json\n",
    "import pandas as pd\n",
    "import matplotlib.pyplot as plt\n",
    "import numpy as np\n",
    "\n",
    "### ADD to main notebook\n",
    "# Libraries needed for length analysis and adjective ratio\n",
    "from pyspark.ml.feature import Tokenizer, RegexTokenizer\n",
    "from pyspark.sql.types import IntegerType"
   ]
  },
  {
   "cell_type": "code",
   "execution_count": 2,
   "metadata": {},
   "outputs": [],
   "source": [
    "LOCAL_PATH = \"../Project/data/\"\n",
    "WIKI_DATA = os.path.join(LOCAL_PATH, \"wikipedia_male_female.json\")"
   ]
  },
  {
   "cell_type": "code",
   "execution_count": 3,
   "metadata": {},
   "outputs": [
    {
     "name": "stdout",
     "output_type": "stream",
     "text": [
      "+------+---------+--------------------+--------------------+--------------------+--------------------+--------------+\n",
      "|gender|       id|                name|          occupation|            overview|          wiki-title|         field|\n",
      "+------+---------+--------------------+--------------------+--------------------+--------------------+--------------+\n",
      "|  male| Q4647941|       A. J. Masters|              singer|Arthur John Masar...|       A. J. Masters|        Artist|\n",
      "|  male| Q4647941|       A. J. Masters|          songwriter|Arthur John Masar...|       A. J. Masters|        Artist|\n",
      "|  male| Q4648064|A. L. A. Himmelwr...|      civil engineer|Abraham Lincoln A...|A. L. A. Himmelwr...|          null|\n",
      "|  male| Q4648064|A. L. A. Himmelwr...|            engineer|Abraham Lincoln A...|A. L. A. Himmelwr...|     Scientist|\n",
      "|  male| Q4647256|  A. N. Sattampillai|          theologian|Arumai Nayakam Sa...|  A. N. Sattampillai|      Religion|\n",
      "|  male|   Q84136|         A. Vellayan|      businessperson|A. Vellayan (born...|         A. Vellayan|Business & Law|\n",
      "|  male|Q16030065|   A. W. Kjellstrand|          head coach|August William Kj...|   A. W. Kjellstrand|          null|\n",
      "|  male| Q4661199|    Aage Fahrenholtz|               boxer|Karl Aage Fahrenh...|    Aage Fahrenholtz|        Sports|\n",
      "|  male| Q4662188|     Aaron Ledgister|association footb...|Aaron Turone Ledg...|     Aaron Ledgister|        Sports|\n",
      "|  male|Q21176713|Aaron Manasses Mc...|          politician|Aaron Manasses Mc...|Aaron Manasses Mc...|      Politics|\n",
      "|  male| Q1385420|         Aaron Pryor|               boxer|Aaron Pryor (Octo...|         Aaron Pryor|        Sports|\n",
      "|  male|Q16216136|       Aaron Trahair|   basketball player|Aaron Trahair (bo...|       Aaron Trahair|        Sports|\n",
      "|  male|  Q303758|      Aatos Lehtonen|association footb...|Aatos Ensio Lehto...|      Aatos Lehtonen|        Sports|\n",
      "|  male|  Q303758|      Aatos Lehtonen|     handball player|Aatos Ensio Lehto...|      Aatos Lehtonen|        Sports|\n",
      "|  male|  Q303758|      Aatos Lehtonen|        bandy player|Aatos Ensio Lehto...|      Aatos Lehtonen|          null|\n",
      "|  male|  Q303758|      Aatos Lehtonen|   basketball player|Aatos Ensio Lehto...|      Aatos Lehtonen|        Sports|\n",
      "|  male|  Q303758|      Aatos Lehtonen|association footb...|Aatos Ensio Lehto...|      Aatos Lehtonen|        Sports|\n",
      "|female| Q2820848|         Abby Kelley|            feminist|Abby Kelley Foste...|         Abby Kelley|          null|\n",
      "|female| Q2820848|         Abby Kelley|         suffragette|Abby Kelley Foste...|         Abby Kelley|          null|\n",
      "|female| Q4664478|            Abby May|       social worker|Abigail  Alcott (...|            Abby May|          null|\n",
      "+------+---------+--------------------+--------------------+--------------------+--------------------+--------------+\n",
      "only showing top 20 rows\n",
      "\n"
     ]
    }
   ],
   "source": [
    "# create the session\n",
    "spark = SparkSession.builder.getOrCreate()\n",
    "\n",
    "# create the context\n",
    "sc = spark.sparkContext\n",
    "\n",
    "# Load data frame\n",
    "df = spark.read.json(WIKI_DATA)\n",
    "\n",
    "# Open Gender dictionary\n",
    "with open('wiki-gender/data/dict_genders.json') as json_file:\n",
    "    line = json_file.readline()\n",
    "    dict_genders = json.loads(line)\n",
    "    \n",
    "# Open occupations dictionary\n",
    "dict_occupations = {}\n",
    "with open('wiki-gender/data/dict_occupations.json') as json_file:\n",
    "    content = json_file.readlines()\n",
    "    for line in content:\n",
    "        occ = json.loads(line)\n",
    "        dict_occupations.update(occ)\n",
    "        \n",
    "# Observation: We need dict_categories_occupations.json in the data folder\n",
    "# Open occupations categories dictionary\n",
    "with open('wiki-gender/data/dict_categories_occupations.json') as json_file:\n",
    "    line = json_file.readline()\n",
    "    dict_cat_occ = json.loads(line)\n",
    "\n",
    "# Create function to translate a code into a category\n",
    "def translate(mapping):\n",
    "    def translate_(col):\n",
    "        return mapping.get(col)\n",
    "    return udf(translate_, StringType())\n",
    "\n",
    "# Translate gender and occupations codes into corresponding labels\n",
    "df = df.withColumn('gender', translate(dict_genders)('gender'))\\\n",
    "       .withColumn('occupation', explode(split(regexp_replace(regexp_replace(regexp_replace\\\n",
    "                                (regexp_replace(df['occupation'], '\\\\[', ''), '\\\\]', ''), ' ', ''),\"'\", \"\"), \",\")))\\\n",
    "       .filter(col('occupation') != '')\\\n",
    "       .withColumn('occupation', translate(dict_occupations)('occupation'))\\\n",
    "       .withColumn('field', translate(dict_cat_occ)('occupation'))\n",
    "\n",
    "df.show()"
   ]
  },
  {
   "cell_type": "markdown",
   "metadata": {},
   "source": [
    "# Distribution of the Overview's length \n",
    "There are very different biographies in the data set, some correspond to Artists, some other to Politicians. The overview's length differs significantly from biography to biography. The largest overview's length is of 23,728 words (without punctiation). The shortest overview's length is of 1. On the following plot we can observe the overview's length distribution. It seems to be a power law distribution with a higher mean than median. "
   ]
  },
  {
   "cell_type": "code",
   "execution_count": 4,
   "metadata": {},
   "outputs": [
    {
     "name": "stdout",
     "output_type": "stream",
     "text": [
      "The distribution's minimum is: 1.00\n",
      "The distribution's maximum is: 23728.00\n",
      "The distribution's mean is: 468.50\n",
      "The distribution's median is: 288.00\n"
     ]
    },
    {
     "data": {
      "image/png": "[encoded data removed]",
      "text/plain": [
       "<Figure size 720x504 with 1 Axes>"
      ]
     },
     "metadata": {
      "needs_background": "light"
     },
     "output_type": "display_data"
    }
   ],
   "source": [
    "# Remove puncutation from the feature overview\n",
    "df_overview_len = df.withColumn('overview', regexp_replace(regexp_replace(df['overview'],r'[^\\w\\s]',''), '\\s\\s+', ' '))\n",
    "\n",
    "# Tokenize feature overview\n",
    "tokenizer = Tokenizer(inputCol=\"overview\", outputCol=\"overview_tokens\")\n",
    "df_overview_len = tokenizer.transform(df_overview_len)\n",
    "\n",
    "# Compute length (number of words) of an Overview\n",
    "tokens_len = udf(lambda s: len(s), IntegerType())\n",
    "df_overview_len = df_overview_len.withColumn('overview_len', tokens_len(df_overview_len['overview']))\n",
    "\n",
    "# Query to convert a spark data frame into a pandas data frame, the data frame contains the variables id and overview_len\n",
    "# Define query\n",
    "df_overview_len.registerTempTable(\"df_overview_len\")\n",
    "query = \"\"\"\n",
    "SELECT DISTINCT id, overview_len\n",
    "FROM df_overview_len\n",
    "WHERE overview_len>0\n",
    "ORDER BY overview_len\n",
    "\"\"\"\n",
    "\n",
    "# Execute query\n",
    "overview_len = spark.sql(query)\n",
    "# Convert to pandas\n",
    "overview_len = overview_len.toPandas()\n",
    "\n",
    "# Print basic statistics\n",
    "print(\"The distribution's minimum is: {0:.2f}\".format(np.min(overview_len['overview_len'])))\n",
    "print(\"The distribution's maximum is: {0:.2f}\".format(np.max(overview_len['overview_len'])))\n",
    "print(\"The distribution's mean is: {0:.2f}\".format(np.mean(overview_len['overview_len'])))\n",
    "print(\"The distribution's median is: {0:.2f}\".format(np.median(overview_len['overview_len'])))\n",
    "\n",
    "# Plot the distribution of overview's length\n",
    "pl_male = overview_len['overview_len'].plot(kind=\"hist\", figsize=(10, 7), log=True, alpha=0.5, color=[\"green\"])\n",
    "pl_male.set_title('Distribution of overview\\'s length')\n",
    "pl_male.set_xlabel('Length')\n",
    "pl_male.set_ylabel('Frequency')\n",
    "plt.show()"
   ]
  },
  {
   "cell_type": "markdown",
   "metadata": {},
   "source": [
    "# Distribution of the Percentage of adjectives in an overview\n",
    "The distributions of percentage of adjectives in an overview for Males and Females can be observed below."
   ]
  },
  {
   "cell_type": "code",
   "execution_count": 5,
   "metadata": {},
   "outputs": [],
   "source": [
    "# Load data frames that include adjectives in each overview\n",
    "WIKI_MALE = os.path.join(LOCAL_PATH, \"wikipedia_male_adjectives.json\")\n",
    "WIKI_FEM = os.path.join(LOCAL_PATH, \"wikipedia_female_adjectives.json\")\n",
    "\n",
    "df_male = spark.read.json(WIKI_MALE)\n",
    "df_fem = spark.read.json(WIKI_FEM)"
   ]
  },
  {
   "cell_type": "code",
   "execution_count": 6,
   "metadata": {},
   "outputs": [],
   "source": [
    "# Remove punctuation and compute overview's length, adjective's length, and the percentage of adjectives per overview\n",
    "df_fem = df_fem.withColumn('overview', regexp_replace(regexp_replace(df_fem['overview'],r'[^\\w\\s]',''), '\\s\\s+', ' '))\n",
    "df_fem = df_fem.withColumn('overview_len', tokens_len(df_fem['overview']))\\\n",
    "               .withColumn('adjective_len', tokens_len(df_fem['adjectives']))\n",
    "df_fem = df_fem.withColumn('adjective_ratio_overview', df_fem['adjective_len']/df_fem['overview_len'])\n",
    "\n",
    "# Query to convert a spark data frame into a pandas data frame, the data frame contains the variables id, overview_len, adjective_len, adjective_ratio_overview\n",
    "# Define query\n",
    "df_fem.registerTempTable(\"df_fem\")\n",
    "query = \"\"\"\n",
    "SELECT DISTINCT id, overview_len, adjective_len, adjective_ratio_overview \n",
    "FROM df_fem\n",
    "WHERE overview_len>0\n",
    "ORDER BY adjective_ratio_overview\n",
    "\"\"\"\n",
    "# Execute query\n",
    "ratio_adj_overview_fem = spark.sql(query)\n",
    "\n",
    "# Convert to pandas\n",
    "ratio_adj_overview_fem = ratio_adj_overview_fem.toPandas()"
   ]
  },
  {
   "cell_type": "code",
   "execution_count": 7,
   "metadata": {},
   "outputs": [],
   "source": [
    "# Remove punctuation and compute overview's length, adjective's length, and the percentage of adjectives per overview\n",
    "df_male = df_male.withColumn('overview', regexp_replace(regexp_replace(df_male['overview'],r'[^\\w\\s]',''), '\\s\\s+', ' '))\n",
    "df_male = df_male.withColumn('overview_len', tokens_len(df_male['overview']))\\\n",
    "               .withColumn('adjective_len', tokens_len(df_male['adjectives']))\n",
    "df_male = df_male.withColumn('adjective_ratio_overview', df_male['adjective_len']/df_male['overview_len'])\n",
    "\n",
    "# Query to convert a spark data frame into a pandas data frame, the data frame contains the variables id, overview_len, adjective_len, adjective_ratio_overview\n",
    "# Define query\n",
    "df_male.registerTempTable(\"df_male\")\n",
    "query = \"\"\"\n",
    "SELECT DISTINCT id, overview_len, adjective_len, adjective_ratio_overview \n",
    "FROM df_male\n",
    "WHERE overview_len>0\n",
    "ORDER BY adjective_ratio_overview\n",
    "\"\"\"\n",
    "# Execute query\n",
    "ratio_adj_overview_male = spark.sql(query)\n",
    "# Convert to pandas\n",
    "ratio_adj_overview_male = ratio_adj_overview_male.toPandas()"
   ]
  },
  {
   "cell_type": "markdown",
   "metadata": {},
   "source": [
    "## Distribution of the Percentage of adjectives in an overview - Female\n",
    "Overall, each overview does not present a large percentage of adjectives. The distribution for the Female gender is a power law. "
   ]
  },
  {
   "cell_type": "code",
   "execution_count": 8,
   "metadata": {},
   "outputs": [
    {
     "name": "stdout",
     "output_type": "stream",
     "text": [
      "The distribution's minimum is: 0.02%\n",
      "The distribution's maximum is: 6.67%\n",
      "The distribution's mean is: 0.35%\n",
      "The distribution's median is: 0.29%\n"
     ]
    },
    {
     "data": {
      "image/png": "[encoded data removed]",
      "text/plain": [
       "<Figure size 720x504 with 1 Axes>"
      ]
     },
     "metadata": {
      "needs_background": "light"
     },
     "output_type": "display_data"
    }
   ],
   "source": [
    "# Print basic statistics\n",
    "print(\"The distribution's minimum is: {0:.2f}%\".format(np.min(ratio_adj_overview_fem['adjective_ratio_overview']*100)))\n",
    "print(\"The distribution's maximum is: {0:.2f}%\".format(np.max(ratio_adj_overview_fem['adjective_ratio_overview']*100)))\n",
    "print(\"The distribution's mean is: {0:.2f}%\".format(np.mean(ratio_adj_overview_fem['adjective_ratio_overview']*100)))\n",
    "print(\"The distribution's median is: {0:.2f}%\".format(np.median(ratio_adj_overview_fem['adjective_ratio_overview']*100)))\n",
    "\n",
    "# Plot the distribution of percentage of adjectives in an overview - Female\n",
    "pl_fem = ratio_adj_overview_fem['adjective_ratio_overview'].plot(kind=\"hist\", figsize=(10, 7), log=True, alpha=0.5, color=[\"red\"])\n",
    "pl_fem.set_title('Distribution of percentage of adjectives in the biography overview - Female')\n",
    "pl_fem.set_xlabel('Percentage')\n",
    "pl_fem.set_ylabel('Frequency')\n",
    "plt.show()"
   ]
  },
  {
   "cell_type": "markdown",
   "metadata": {},
   "source": [
    "## Distribution of the Percentage of adjectives in an overview - Male\n",
    "Overall, each overview does not present a large percentage of adjectives. The distribution for the Male gender is a power law. "
   ]
  },
  {
   "cell_type": "code",
   "execution_count": 9,
   "metadata": {},
   "outputs": [
    {
     "name": "stdout",
     "output_type": "stream",
     "text": [
      "The distribution's minimum is: 0.02%\n",
      "The distribution's maximum is: 6.67%\n",
      "The distribution's mean is: 0.35%\n",
      "The distribution's median is: 0.29%\n"
     ]
    },
    {
     "data": {
      "image/png": "[encoded data removed]",
      "text/plain": [
       "<Figure size 720x504 with 1 Axes>"
      ]
     },
     "metadata": {
      "needs_background": "light"
     },
     "output_type": "display_data"
    }
   ],
   "source": [
    "# Print basic statistics\n",
    "print(\"The distribution's minimum is: {0:.2f}%\".format(np.min(ratio_adj_overview_male['adjective_ratio_overview']*100)))\n",
    "print(\"The distribution's maximum is: {0:.2f}%\".format(np.max(ratio_adj_overview_male['adjective_ratio_overview']*100)))\n",
    "print(\"The distribution's mean is: {0:.2f}%\".format(np.mean(ratio_adj_overview_male['adjective_ratio_overview']*100)))\n",
    "print(\"The distribution's median is: {0:.2f}%\".format(np.median(ratio_adj_overview_male['adjective_ratio_overview']*100)))\n",
    "\n",
    "# Plot the distribution of percentage of adjectives in an overview - Male\n",
    "pl_male = ratio_adj_overview_male['adjective_ratio_overview'].plot(kind=\"hist\", figsize=(10, 7), log=True, alpha=0.5, color=[\"green\"])\n",
    "pl_male.set_title('Distribution of percentage of adjectives in the biography overview - Male')\n",
    "pl_male.set_xlabel('Percentage')\n",
    "pl_male.set_ylabel('Frequency')\n",
    "plt.show()"
   ]
  },
  {
   "cell_type": "markdown",
   "metadata": {},
   "source": [
    "# Finish"
   ]
  },
  {
   "cell_type": "code",
   "execution_count": null,
   "metadata": {},
   "outputs": [],
   "source": []
  },
  {
   "cell_type": "markdown",
   "metadata": {},
   "source": [
    "# Eval if the following plot is better than the previous two"
   ]
  },
  {
   "cell_type": "code",
   "execution_count": 27,
   "metadata": {},
   "outputs": [
    {
     "data": {
      "image/png": "[encoded data removed]",
      "text/plain": [
       "<Figure size 1080x360 with 2 Axes>"
      ]
     },
     "metadata": {
      "needs_background": "light"
     },
     "output_type": "display_data"
    }
   ],
   "source": [
    "# Plot the histogram of the feature\n",
    "fig, ax = plt.axsubplots(1,2,figsize=(15,5))\n",
    "ax[0].hist(ratio_adj_overview_male['adjective_ratio_overview'], bins = 15, color = 'palegreen')\n",
    "ax[1].hist(ratio_adj_overview_fem['adjective_ratio_overview'], bins = 15, color = 'salmon')\n",
    "\n",
    "# Tunning the plot\n",
    "# Setting title, x and y labels\n",
    "ax[0].set_title('Distribution Percentage of adjectives in the biography overview - Male')\n",
    "ax[0].set_xlabel('Percentage')\n",
    "ax[0].set_ylabel('Frequency')\n",
    "ax[1].set_title('Distribution Percentage of adjectives in the biography overview - Female')\n",
    "ax[1].set_xlabel('Percentage')\n",
    "ax[1].set_ylabel('Frequency')\n",
    "\n",
    "ax[0].set_yscale('log')\n",
    "ax[1].set_yscale('log')"
   ]
  }
 ],
 "metadata": {
  "kernelspec": {
   "display_name": "Python 3",
   "language": "python",
   "name": "python3"
  },
  "language_info": {
   "codemirror_mode": {
    "name": "ipython",
    "version": 3
   },
   "file_extension": ".py",
   "mimetype": "text/x-python",
   "name": "python",
   "nbconvert_exporter": "python",
   "pygments_lexer": "ipython3",
   "version": "3.7.3"
  }
 },
 "nbformat": 4,
 "nbformat_minor": 4
}
