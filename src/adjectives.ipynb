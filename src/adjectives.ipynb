{
 "cells": [
  {
   "cell_type": "markdown",
   "metadata": {},
   "source": [
    "# Analysis adjectives"
   ]
  },
  {
   "cell_type": "code",
   "execution_count": null,
   "metadata": {},
   "outputs": [],
   "source": [
    "from pyspark.sql import *\n",
    "from pyspark.sql.functions import *\n",
    "from pyspark import SparkContext\n",
    "from createDataset.params import *\n",
    "import os\n",
    "import json\n",
    "import pandas as pd"
   ]
  },
  {
   "cell_type": "code",
   "execution_count": null,
   "metadata": {},
   "outputs": [],
   "source": [
    "LOCAL_PATH = \"../data/\"\n",
    "ADJ_MALE = os.path.join(LOCAL_PATH, \"count_male_adjectives.json\")\n",
    "ADJ_FEM = os.path.join(LOCAL_PATH, \"count_female_adjectives.json\")"
   ]
  },
  {
   "cell_type": "code",
   "execution_count": null,
   "metadata": {},
   "outputs": [],
   "source": [
    "# create the session\n",
    "spark = SparkSession.builder.getOrCreate()\n",
    "# create the context\n",
    "sc = spark.sparkContext\n",
    "\n",
    "most_common_adj_male = spark.read.json(ADJ_MALE)\n",
    "most_common_adj_fem = spark.read.json(ADJ_FEM)"
   ]
  },
  {
   "cell_type": "code",
   "execution_count": null,
   "metadata": {},
   "outputs": [],
   "source": [
    "most_common_adj_male = most_common_adj_male.orderBy(desc(\"count\"))\n",
    "most_common_adj_male.show()"
   ]
  },
  {
   "cell_type": "code",
   "execution_count": null,
   "metadata": {},
   "outputs": [],
   "source": [
    "most_common_adj_fem = most_common_adj_fem.orderBy(desc(\"count\"))\n",
    "most_common_adj_fem.show()"
   ]
  },
  {
   "cell_type": "code",
   "execution_count": null,
   "metadata": {},
   "outputs": [],
   "source": [
    "subjectivity_dictionary = {}\n",
    "    \n",
    "with open('../data/subjectivity_dictionary.json', 'r') as json_file:\n",
    "    for item in eval(json_file.readline()):\n",
    "        subjectivity_dictionary.update({item['word']: (item['strength'], item['subj'])})"
   ]
  },
  {
   "cell_type": "code",
   "execution_count": null,
   "metadata": {},
   "outputs": [],
   "source": [
    "def get_subjectivity(adj):\n",
    "    return subjectivity_dictionary.get(adj)[1]\n",
    "\n",
    "def get_strength(adj):\n",
    "    return subjectivity_dictionary.get(adj)[0]"
   ]
  },
  {
   "cell_type": "code",
   "execution_count": null,
   "metadata": {},
   "outputs": [],
   "source": [
    "udf_get_subj = udf(get_subjectivity)\n",
    "udf_get_strength = udf(get_strength)\n",
    "\n",
    "most_common_adj_male = most_common_adj_male.withColumn(\"subjectivity\", udf_get_subj(\"adjectives\"))\n",
    "most_common_adj_fem = most_common_adj_fem.withColumn(\"subjectivity\", udf_get_subj(\"adjectives\"))\n",
    "most_common_adj_male = most_common_adj_male.withColumn(\"strength\", udf_get_strength(\"adjectives\"))\n",
    "most_common_adj_fem = most_common_adj_fem.withColumn(\"strength\", udf_get_strength(\"adjectives\"))"
   ]
  },
  {
   "cell_type": "code",
   "execution_count": null,
   "metadata": {},
   "outputs": [],
   "source": [
    "most_common_adj_male.show()"
   ]
  },
  {
   "cell_type": "code",
   "execution_count": null,
   "metadata": {},
   "outputs": [],
   "source": [
    "most_common_adj_fem.show()"
   ]
  },
  {
   "cell_type": "code",
   "execution_count": null,
   "metadata": {},
   "outputs": [],
   "source": [
    "WIKI_MALE = os.path.join(LOCAL_PATH, \"wikipedia_male_adjectives.json\")\n",
    "WIKI_FEM = os.path.join(LOCAL_PATH, \"wikipedia_female_adjectives.json\")"
   ]
  },
  {
   "cell_type": "code",
   "execution_count": null,
   "metadata": {},
   "outputs": [],
   "source": [
    "df_male = spark.read.json(WIKI_MALE)\n",
    "df_fem = spark.read.json(WIKI_FEM)"
   ]
  },
  {
   "cell_type": "code",
   "execution_count": null,
   "metadata": {},
   "outputs": [],
   "source": [
    "def get_nb_adjs(list_adj):\n",
    "    return len(list_adj)"
   ]
  },
  {
   "cell_type": "code",
   "execution_count": null,
   "metadata": {},
   "outputs": [],
   "source": [
    "udf_get_nb_adjs = udf(get_nb_adjs)\n",
    "\n",
    "df_male = df_male.withColumn(\"nb-adjs\", udf_get_nb_adjs(\"adjectives\"))\n",
    "df_fem = df_fem.withColumn(\"nb-adjs\", udf_get_nb_adjs(\"adjectives\"))"
   ]
  },
  {
   "cell_type": "code",
   "execution_count": null,
   "metadata": {},
   "outputs": [],
   "source": [
    "print(\"MALE\")\n",
    "df_male.agg(mean(col(\"nb-adjs\")), stddev(col(\"nb-adjs\"))).show()\n",
    "\n",
    "print(\"FEMALE\")\n",
    "df_fem.agg(mean(col(\"nb-adjs\")), stddev(col(\"nb-adjs\"))).show()"
   ]
  },
  {
   "cell_type": "markdown",
   "metadata": {},
   "source": [
    "## Word cloud for the most common adjectives"
   ]
  },
  {
   "cell_type": "code",
   "execution_count": null,
   "metadata": {},
   "outputs": [],
   "source": [
    "import matplotlib.pyplot as plt\n",
    "from wordcloud import WordCloud, STOPWORDS\n",
    "import numpy as np\n",
    "from PIL import Image"
   ]
  },
  {
   "cell_type": "code",
   "execution_count": null,
   "metadata": {},
   "outputs": [],
   "source": [
    "adj_male_dict = most_common_adj_male.select('adjectives', 'count').toPandas().set_index('adjectives').T.to_dict('records')\n",
    "adj_female_dict = most_common_adj_fem.select('adjectives', 'count').toPandas().set_index('adjectives').T.to_dict('records')"
   ]
  },
  {
   "cell_type": "code",
   "execution_count": null,
   "metadata": {},
   "outputs": [],
   "source": [
    "# map subjectity of words to colors\n",
    "word_to_color = dict()\n",
    "\n",
    "for word in subjectivity_dictionary:\n",
    "    if subjectivity_dictionary[word][1] == \"positive\":\n",
    "        word_to_color[word] = 'forestgreen' \n",
    "    if subjectivity_dictionary[word][1] == \"negative\":\n",
    "        word_to_color[word] = 'crimson' \n",
    "    if subjectivity_dictionary[word][1] == \"neutral\":\n",
    "        word_to_color[word] = 'grey' \n",
    "\n",
    "def color_func(word, *args, **kwargs):\n",
    "    try:\n",
    "        color = word_to_color[word]\n",
    "    except KeyError:\n",
    "        color = '#000000' # black\n",
    "    return color\n"
   ]
  },
  {
   "cell_type": "code",
   "execution_count": null,
   "metadata": {},
   "outputs": [],
   "source": [
    "male_mask = np.array(Image.open(\"male.png\"))\n",
    "\n",
    "wc = WordCloud(background_color=\"white\", max_words=500, mask=male_mask, \n",
    "               contour_width=3, contour_color='peru', color_func=color_func)\n",
    "\n",
    "# generate word cloud\n",
    "wc.generate_from_frequencies(adj_male_dict[0])\n",
    "\n",
    "# store to file\n",
    "# wc.to_file(path.join(d, \"male_adj.png\"))\n",
    "\n",
    "# show\n",
    "plt.figure(figsize=[20,10])\n",
    "plt.imshow(wc, cmap=plt.cm.gray, interpolation=\"bilinear\")\n",
    "plt.axis(\"off\")\n",
    "plt.show()"
   ]
  },
  {
   "cell_type": "code",
   "execution_count": null,
   "metadata": {},
   "outputs": [],
   "source": [
    "female_mask = np.array(Image.open(\"female.png\"))\n",
    "\n",
    "wc = WordCloud(background_color=\"white\", max_words=500, mask=female_mask, \n",
    "               contour_width=3, contour_color='peru', color_func=color_func)\n",
    "# generate word cloud\n",
    "wc.generate_from_frequencies(adj_female_dict[0])\n",
    "\n",
    "# store to file\n",
    "# wc.to_file(path.join(d, \"female_adj.png\"))\n",
    "\n",
    "# show\n",
    "plt.figure(figsize=[20,10])\n",
    "plt.imshow(wc, cmap=plt.cm.gray, interpolation=\"bilinear\")\n",
    "plt.axis(\"off\")\n",
    "plt.show()"
   ]
  },
  {
   "cell_type": "markdown",
   "metadata": {},
   "source": [
    "## Compare the strong positive/negative adjectives in the overviews"
   ]
  },
  {
   "cell_type": "code",
   "execution_count": null,
   "metadata": {},
   "outputs": [],
   "source": [
    "most_common_adj_male.show()"
   ]
  },
  {
   "cell_type": "code",
   "execution_count": null,
   "metadata": {},
   "outputs": [],
   "source": [
    "overview_subjectivity_male = most_common_adj_male.groupBy('strength', 'subjectivity').\\\n",
    "agg(sum('count').alias('sum_')).orderBy(desc('sum_'))\n",
    "\n",
    "overview_subjectivity_male = overview_subjectivity_male.replace('', 'None')\n",
    "overview_subjectivity_male.show()\n",
    "\n",
    "\n",
    "overview_subjectivity_female = most_common_adj_fem.groupBy('strength', 'subjectivity').\\\n",
    "agg(sum('count').alias('sum_')).orderBy(desc('sum_'))\n",
    "\n",
    "overview_subjectivity_female = overview_subjectivity_female.replace('', 'None')\n",
    "overview_subjectivity_female.show()"
   ]
  },
  {
   "cell_type": "code",
   "execution_count": null,
   "metadata": {},
   "outputs": [],
   "source": [
    "strong_adj_male = most_common_adj_male.where((col(\"strength\") == \"strongsubj\")).\\\n",
    "groupBy('strength', 'subjectivity').agg({'count':'sum'}).\\\n",
    "where((col(\"subjectivity\") == \"positive\") | (col(\"subjectivity\") == \"negative\"))\n",
    "\n",
    "strong_adj_male = strong_adj_male.\\\n",
    "withColumn(\"percentage\", 100*strong_adj_male['sum(count)']/ most_common_adj_male.agg({'count':'sum'}).collect()[0][0])\n",
    "\n",
    "strong_adj_male.show()\n",
    "\n",
    "\n",
    "strong_adj_female = most_common_adj_fem.where((col(\"strength\") == \"strongsubj\")).\\\n",
    "groupBy('strength', 'subjectivity').agg({'count':'sum'}).\\\n",
    "where((col(\"subjectivity\") == \"positive\") | (col(\"subjectivity\") == \"negative\"))\n",
    "\n",
    "strong_adj_female = strong_adj_female.\\\n",
    "withColumn(\"percentage\", 100*strong_adj_female['sum(count)']/ most_common_adj_fem.agg({'count':'sum'}).collect()[0][0])\n",
    "\n",
    "\n",
    "strong_adj_female.show()"
   ]
  },
  {
   "cell_type": "code",
   "execution_count": null,
   "metadata": {},
   "outputs": [],
   "source": [
    "most_common_adj_male.where((col(\"strength\") == \"strongsubj\") & (col(\"subjectivity\") == 'positive')).show()"
   ]
  },
  {
   "cell_type": "code",
   "execution_count": null,
   "metadata": {},
   "outputs": [],
   "source": [
    "most_common_adj_male.where((col(\"strength\") == \"strongsubj\") & (col(\"subjectivity\") == 'negative')).show()"
   ]
  },
  {
   "cell_type": "code",
   "execution_count": null,
   "metadata": {},
   "outputs": [],
   "source": [
    "strong_pos_male = most_common_adj_male \\\n",
    "                    .where((col(\"strength\") == \"strongsubj\") & (col(\"subjectivity\") == 'positive')) \\\n",
    "                    .count()\n",
    "\n",
    "strong_neg_male = most_common_adj_male \\\n",
    "                    .where((col(\"strength\") == \"strongsubj\") & (col(\"subjectivity\") == 'negative')) \\\n",
    "                    .count()\n",
    "\n"
   ]
  },
  {
   "cell_type": "code",
   "execution_count": null,
   "metadata": {},
   "outputs": [],
   "source": []
  }
 ],
 "metadata": {
  "kernelspec": {
   "display_name": "Python [conda env:ada] *",
   "language": "python",
   "name": "conda-env-ada-py"
  },
  "language_info": {
   "codemirror_mode": {
    "name": "ipython",
    "version": 3
   },
   "file_extension": ".py",
   "mimetype": "text/x-python",
   "name": "python",
   "nbconvert_exporter": "python",
   "pygments_lexer": "ipython3",
   "version": "3.7.4"
  }
 },
 "nbformat": 4,
 "nbformat_minor": 2
}
