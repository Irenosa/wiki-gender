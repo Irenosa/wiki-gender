{
 "cells": [
  {
   "cell_type": "markdown",
   "metadata": {},
   "source": [
    "# Analysis adjectives"
   ]
  },
  {
   "cell_type": "code",
   "execution_count": 1,
   "metadata": {},
   "outputs": [],
   "source": [
    "from pyspark.sql import *\n",
    "from pyspark.sql.functions import *\n",
    "from pyspark import SparkContext\n",
    "from createDataset.params import *\n",
    "import os\n",
    "import json\n",
    "import pandas as pd"
   ]
  },
  {
   "cell_type": "code",
   "execution_count": 2,
   "metadata": {},
   "outputs": [],
   "source": [
    "LOCAL_PATH = \"../data/\"\n",
    "ADJ_MALE = os.path.join(LOCAL_PATH, \"count_male_adjectives.json\")\n",
    "ADJ_FEM = os.path.join(LOCAL_PATH, \"count_female_adjectives.json\")"
   ]
  },
  {
   "cell_type": "code",
   "execution_count": 3,
   "metadata": {},
   "outputs": [],
   "source": [
    "# create the session\n",
    "spark = SparkSession.builder.getOrCreate()\n",
    "# create the context\n",
    "sc = spark.sparkContext\n",
    "\n",
    "most_common_adj_male = spark.read.json(ADJ_MALE)\n",
    "most_common_adj_fem = spark.read.json(ADJ_FEM)"
   ]
  },
  {
   "cell_type": "code",
   "execution_count": 6,
   "metadata": {},
   "outputs": [
    {
     "name": "stdout",
     "output_type": "stream",
     "text": [
      "+----------+-----+\n",
      "|adjectives|count|\n",
      "+----------+-----+\n",
      "|     right|59358|\n",
      "|     large|38046|\n",
      "|   popular|32918|\n",
      "|   notable|29582|\n",
      "|      best|28404|\n",
      "|     major|28211|\n",
      "|    active|26180|\n",
      "|      high|24815|\n",
      "|    famous|18211|\n",
      "|successful|17535|\n",
      "|      long|17157|\n",
      "|     great|16970|\n",
      "| prominent|16280|\n",
      "| important|16050|\n",
      "|      free|15042|\n",
      "|    modern|14615|\n",
      "|     civil|11679|\n",
      "|  original|11091|\n",
      "|   olympic| 9942|\n",
      "|     minor| 9908|\n",
      "+----------+-----+\n",
      "only showing top 20 rows\n",
      "\n"
     ]
    }
   ],
   "source": [
    "most_common_adj_male = most_common_adj_male.orderBy(desc(\"count\"))\n",
    "most_common_adj_male.show()"
   ]
  },
  {
   "cell_type": "code",
   "execution_count": 8,
   "metadata": {},
   "outputs": [
    {
     "name": "stdout",
     "output_type": "stream",
     "text": [
      "+-----------+-----+\n",
      "| adjectives|count|\n",
      "+-----------+-----+\n",
      "|    popular| 8720|\n",
      "|       best| 8010|\n",
      "|    notable| 5832|\n",
      "|      large| 5139|\n",
      "|       high| 4924|\n",
      "|    olympic| 4576|\n",
      "|     active| 4430|\n",
      "|       long| 4405|\n",
      "|      major| 4050|\n",
      "|      right| 3654|\n",
      "| successful| 3305|\n",
      "|     famous| 3302|\n",
      "|competitive| 2864|\n",
      "|      great| 2681|\n",
      "|  prominent| 2456|\n",
      "|   original| 2364|\n",
      "|     modern| 2145|\n",
      "|independent| 2118|\n",
      "|      vocal| 1996|\n",
      "| democratic| 1911|\n",
      "+-----------+-----+\n",
      "only showing top 20 rows\n",
      "\n"
     ]
    }
   ],
   "source": [
    "most_common_adj_fem = most_common_adj_fem.orderBy(desc(\"count\"))\n",
    "most_common_adj_fem.show()"
   ]
  },
  {
   "cell_type": "code",
   "execution_count": 9,
   "metadata": {},
   "outputs": [],
   "source": [
    "subjectivity_dictionary = {}\n",
    "    \n",
    "with open('../data/subjectivity_dictionary.json', 'r') as json_file:\n",
    "    for item in eval(json_file.readline()):\n",
    "        subjectivity_dictionary.update({item['word']: (item['strength'], item['subj'])})"
   ]
  },
  {
   "cell_type": "code",
   "execution_count": 18,
   "metadata": {},
   "outputs": [],
   "source": [
    "def get_subjectivity(adj):\n",
    "    return subjectivity_dictionary.get(adj)[1]\n",
    "\n",
    "def get_strength(adj):\n",
    "    return subjectivity_dictionary.get(adj)[0]"
   ]
  },
  {
   "cell_type": "code",
   "execution_count": 19,
   "metadata": {},
   "outputs": [],
   "source": [
    "udf_get_subj = udf(get_subjectivity)\n",
    "udf_get_strength = udf(get_strength)\n",
    "\n",
    "most_common_adj_male = most_common_adj_male.withColumn(\"subjectivity\", udf_get_subj(\"adjectives\"))\n",
    "most_common_adj_fem = most_common_adj_fem.withColumn(\"subjectivity\", udf_get_subj(\"adjectives\"))\n",
    "most_common_adj_male = most_common_adj_male.withColumn(\"strength\", udf_get_strength(\"adjectives\"))\n",
    "most_common_adj_fem = most_common_adj_fem.withColumn(\"strength\", udf_get_strength(\"adjectives\"))"
   ]
  },
  {
   "cell_type": "code",
   "execution_count": 20,
   "metadata": {},
   "outputs": [
    {
     "name": "stdout",
     "output_type": "stream",
     "text": [
      "+----------+-----+------------+----------+\n",
      "|adjectives|count|subjectivity|  strength|\n",
      "+----------+-----+------------+----------+\n",
      "|     right|59358|    positive|strongsubj|\n",
      "|     large|38046|    positive|  weaksubj|\n",
      "|   popular|32918|    positive|  weaksubj|\n",
      "|   notable|29582|    positive|strongsubj|\n",
      "|      best|28404|    positive|strongsubj|\n",
      "|     major|28211|     neutral|  weaksubj|\n",
      "|    active|26180|    positive|  weaksubj|\n",
      "|      high|24815|     neutral|  weaksubj|\n",
      "|    famous|18211|    positive|  weaksubj|\n",
      "|successful|17535|    positive|  weaksubj|\n",
      "|      long|17157|    negative|strongsubj|\n",
      "|     great|16970|    positive|strongsubj|\n",
      "| prominent|16280|    positive|  weaksubj|\n",
      "| important|16050|    positive|  weaksubj|\n",
      "|      free|15042|    positive|  weaksubj|\n",
      "|    modern|14615|    positive|  weaksubj|\n",
      "|     civil|11679|    positive|  weaksubj|\n",
      "|  original|11091|    positive|  weaksubj|\n",
      "|   olympic| 9942|     neutral|  weaksubj|\n",
      "|     minor| 9908|     neutral|  weaksubj|\n",
      "+----------+-----+------------+----------+\n",
      "only showing top 20 rows\n",
      "\n"
     ]
    }
   ],
   "source": [
    "most_common_adj_male.show()"
   ]
  },
  {
   "cell_type": "code",
   "execution_count": 21,
   "metadata": {},
   "outputs": [
    {
     "name": "stdout",
     "output_type": "stream",
     "text": [
      "+-----------+-----+------------+----------+\n",
      "| adjectives|count|subjectivity|  strength|\n",
      "+-----------+-----+------------+----------+\n",
      "|    popular| 8720|    positive|  weaksubj|\n",
      "|       best| 8010|    positive|strongsubj|\n",
      "|    notable| 5832|    positive|strongsubj|\n",
      "|      large| 5139|    positive|  weaksubj|\n",
      "|       high| 4924|     neutral|  weaksubj|\n",
      "|    olympic| 4576|     neutral|  weaksubj|\n",
      "|     active| 4430|    positive|  weaksubj|\n",
      "|       long| 4405|    negative|strongsubj|\n",
      "|      major| 4050|     neutral|  weaksubj|\n",
      "|      right| 3654|    positive|strongsubj|\n",
      "| successful| 3305|    positive|  weaksubj|\n",
      "|     famous| 3302|    positive|  weaksubj|\n",
      "|competitive| 2864|    positive|  weaksubj|\n",
      "|      great| 2681|    positive|strongsubj|\n",
      "|  prominent| 2456|    positive|  weaksubj|\n",
      "|   original| 2364|    positive|  weaksubj|\n",
      "|     modern| 2145|    positive|  weaksubj|\n",
      "|independent| 2118|    positive|  weaksubj|\n",
      "|      vocal| 1996|     neutral|  weaksubj|\n",
      "| democratic| 1911|    positive|  weaksubj|\n",
      "+-----------+-----+------------+----------+\n",
      "only showing top 20 rows\n",
      "\n"
     ]
    }
   ],
   "source": [
    "most_common_adj_fem.show()"
   ]
  },
  {
   "cell_type": "code",
   "execution_count": 22,
   "metadata": {},
   "outputs": [],
   "source": [
    "WIKI_MALE = os.path.join(LOCAL_PATH, \"wikipedia_male_adjectives.json\")\n",
    "WIKI_FEM = os.path.join(LOCAL_PATH, \"wikipedia_female_adjectives.json\")"
   ]
  },
  {
   "cell_type": "code",
   "execution_count": 23,
   "metadata": {},
   "outputs": [],
   "source": [
    "df_male = spark.read.json(WIKI_MALE)\n",
    "df_fem = spark.read.json(WIKI_FEM)"
   ]
  },
  {
   "cell_type": "code",
   "execution_count": 25,
   "metadata": {},
   "outputs": [],
   "source": [
    "def get_nb_adjs(list_adj):\n",
    "    return len(list_adj)"
   ]
  },
  {
   "cell_type": "code",
   "execution_count": 30,
   "metadata": {},
   "outputs": [],
   "source": [
    "udf_get_nb_adjs = udf(get_nb_adjs)\n",
    "\n",
    "df_male = df_male.withColumn(\"nb-adjs\", udf_get_nb_adjs(\"adjectives\"))\n",
    "df_fem = df_fem.withColumn(\"nb-adjs\", udf_get_nb_adjs(\"adjectives\"))"
   ]
  },
  {
   "cell_type": "code",
   "execution_count": 44,
   "metadata": {},
   "outputs": [
    {
     "name": "stdout",
     "output_type": "stream",
     "text": [
      "MALE\n",
      "+------------------+--------------------+\n",
      "|      avg(nb-adjs)|stddev_samp(nb-adjs)|\n",
      "+------------------+--------------------+\n",
      "|2.1237752477189096|  1.9709265284971673|\n",
      "+------------------+--------------------+\n",
      "\n",
      "FEMALE\n",
      "+------------------+--------------------+\n",
      "|      avg(nb-adjs)|stddev_samp(nb-adjs)|\n",
      "+------------------+--------------------+\n",
      "|1.9299210914103722|  1.6754143543180764|\n",
      "+------------------+--------------------+\n",
      "\n"
     ]
    }
   ],
   "source": [
    "print(\"MALE\")\n",
    "df_male.agg(mean(col(\"nb-adjs\")), stddev(col(\"nb-adjs\"))).show()\n",
    "\n",
    "print(\"FEMALE\")\n",
    "df_fem.agg(mean(col(\"nb-adjs\")), stddev(col(\"nb-adjs\"))).show()"
   ]
  },
  {
   "cell_type": "code",
   "execution_count": null,
   "metadata": {},
   "outputs": [],
   "source": []
  }
 ],
 "metadata": {
  "kernelspec": {
   "display_name": "Python [conda env:ada] *",
   "language": "python",
   "name": "conda-env-ada-py"
  },
  "language_info": {
   "codemirror_mode": {
    "name": "ipython",
    "version": 3
   },
   "file_extension": ".py",
   "mimetype": "text/x-python",
   "name": "python",
   "nbconvert_exporter": "python",
   "pygments_lexer": "ipython3",
   "version": "3.7.4"
  }
 },
 "nbformat": 4,
 "nbformat_minor": 2
}
