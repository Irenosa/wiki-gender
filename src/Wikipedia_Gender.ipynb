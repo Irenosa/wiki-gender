{
 "cells": [
  {
   "cell_type": "markdown",
   "metadata": {},
   "source": [
    "# WIKIGENDER \n",
    "## todo: find fancy title\n",
    "\n",
    "Wikipedia has become a very large source of information. By November 2019, the number of entries in the English Wikipedia is above 5M [[1]](https://en.wikipedia.org/wiki/Wikipedia:Statistics#Page_views) and keeps increasing everyday at a rate of 500 entries in averge. \n",
    "\n",
    "In previous studies Wagner et al [[2]](https://arxiv.org/abs/1501.06307) shown how gender biases manifest in Wikipedia in the way women and men are portrayed. In other studies, Graells-Garrido et al [[3]](https://labtomarket.files.wordpress.com/2018/01/wiki_gender_bias.pdf) shown that women biographies are more likely to contain sex-related content. Along with these studies, several others have studied topic-related biases in the way women are portrayed but we can also take a look from the linguistic perspective. \n",
    "\n",
    "Linguistic biases is defined as a systematic asymmetry in word choice that reflects the social-category cognitions that are applied to the described group or individual(s) [[4]](https://oxfordre.com/communication/communication/view/10.1093/acrefore/9780190228613.001.0001/acrefore-9780190228613-e-439). We want to analyze how men and women are protrayed and more specifically, the adjectives used to describe them with the aim to spot possible gender biases from a linguistic perspective. To do so, we will use the overview of the biographies in the English Wikipedia together with other characteristics of the people we are analysing.\n",
    "\n",
    "Initially we will start by exploring the dataset, i.e. ratio of male and female entries, presence of other genders, etc. Later, we will explore the language used on the overviews by focusing on the adjectives. We restrict the analysis to adjectives given the level of abstraction they provide [[5]](https://www.aaai.org/ocs/index.php/ICWSM/ICWSM15/paper/download/10539/10513). This analysis will be conducted by first extracting the most frequent adjectives from all the biographies used. We will build a vocabulary based on the most frequent adjectives used in male biographies and the most frequent ones used in female biographies. Using this vocabulary, we will create a representation of each character based on the adjectives in our vocabulary that appear in its biography. \n",
    "\n",
    "Once we have a vectorial representation of each person, we will create a model using logistic regression that will try to predict if a biography belongs to a male or female. If this task becomes feasible, it means there is a pattern in the usage of language that allows us to make a distinction between genders, highlighting the presence of a bias. Will our model succeed in its tasks? Continue with us to discover our results! \n",
    "\n",
    "[[1] Wikipedia Statistics](https://en.wikipedia.org/wiki/Wikipedia:Statistics#Page_views)\n",
    "\n",
    "[[2] It's a Man's Wikipedia? Assessing Gender Inequality in an Online Encyclopedia](https://arxiv.org/abs/1501.06307)\n",
    "\n",
    "[[3] First Women, Second Sex: Gender Bias in Wikipedia](https://labtomarket.files.wordpress.com/2018/01/wiki_gender_bias.pdf)\n",
    "\n",
    "[[4] Oxford Research Encyclopedia](https://oxfordre.com/communication/communication/view/10.1093/acrefore/9780190228613.001.0001/acrefore-9780190228613-e-439)\n",
    "\n",
    "[[5] Linguistic Bias in Collaboratively Produced Biographies: Crowdsourcing Social Stereotypes?](https://www.aaai.org/ocs/index.php/ICWSM/ICWSM15/paper/download/10539/10513)"
   ]
  },
  {
   "cell_type": "code",
   "execution_count": null,
   "metadata": {},
   "outputs": [],
   "source": [
    "from pyspark.sql import *\n",
    "from pyspark.sql.functions import *\n",
    "from pyspark import SparkContext\n",
    "from pyspark.sql.types import StringType\n",
    "from pyspark.sql.functions import udf\n",
    "import os\n",
    "import json\n",
    "import pandas as pd\n",
    "\n",
    "import matplotlib.pyplot as plt"
   ]
  },
  {
   "cell_type": "markdown",
   "metadata": {},
   "source": [
    "## TODO: Data preprocessing and extraction"
   ]
  },
  {
   "cell_type": "markdown",
   "metadata": {},
   "source": [
    "## Gender analysis"
   ]
  },
  {
   "cell_type": "code",
   "execution_count": null,
   "metadata": {},
   "outputs": [],
   "source": [
    "LOCAL_PATH = \"../data/\"\n",
    "WIKI_DATA = os.path.join(LOCAL_PATH, \"overview_wikipedia.json\")"
   ]
  },
  {
   "cell_type": "code",
   "execution_count": null,
   "metadata": {},
   "outputs": [],
   "source": [
    "# create the session\n",
    "spark = SparkSession.builder.getOrCreate()\n",
    "\n",
    "# create the context\n",
    "sc = spark.sparkContext\n",
    "\n",
    "# load data\n",
    "df = spark.read.json(WIKI_DATA)\n",
    "\n",
    "# explode the gender column (create multiple entries for people with a list of genders)\n",
    "df = df.withColumn(\"gender\", split(regexp_replace(regexp_replace(regexp_replace(regexp_replace(df['gender'], \\\n",
    "                                                            '\\\\[', ''), '\\\\]', ''), ' ', ''),\"'\", \"\"), \",\"))\n",
    "df = df.withColumn(\"gender\", df['gender'][0])\n",
    "df.show()"
   ]
  },
  {
   "cell_type": "code",
   "execution_count": null,
   "metadata": {},
   "outputs": [],
   "source": [
    "gender_counts = df.groupBy(\"gender\").agg(count(\"*\").alias(\"count\")).sort(desc(\"count\"))\n",
    "gender_counts.show()"
   ]
  },
  {
   "cell_type": "code",
   "execution_count": null,
   "metadata": {},
   "outputs": [],
   "source": [
    "print(\"In total there are {} different genders\".format(gender_counts.count()))"
   ]
  },
  {
   "cell_type": "code",
   "execution_count": null,
   "metadata": {},
   "outputs": [],
   "source": [
    "# Open dictionary to match id to gender name\n",
    "with open('../data/dict_genders.json') as json_file:\n",
    "    line = json_file.readline()\n",
    "    dict_genders = json.loads(line)"
   ]
  },
  {
   "cell_type": "code",
   "execution_count": null,
   "metadata": {},
   "outputs": [],
   "source": [
    "def get_gender(gender):\n",
    "    return dict_genders.get(gender, \"other\")\n",
    "\n",
    "# get the gender (male, female or other) from the id\n",
    "udf_get_gender = udf(get_gender)\n",
    "gender_counts = gender_counts.withColumn(\"gender\", udf_get_gender(\"gender\"))"
   ]
  },
  {
   "cell_type": "code",
   "execution_count": null,
   "metadata": {},
   "outputs": [],
   "source": [
    "# group the other genders\n",
    "gender_counts_grouped = gender_counts.groupBy(\"gender\").agg(sum(\"count\").alias(\"count\")).sort(desc(\"count\"))\n",
    "gender_counts_grouped.show()"
   ]
  },
  {
   "cell_type": "code",
   "execution_count": null,
   "metadata": {},
   "outputs": [],
   "source": [
    "# dataframe to pandas\n",
    "gender_counts_pd = gender_counts_grouped.toPandas()\n",
    "\n",
    "pl = gender_counts_pd.plot(kind=\"bar\", x=\"gender\", y=\"count\", figsize=(15, 7), log=True, alpha=0.5, color=\"green\")\n",
    "pl.set_xlabel(\"Gender\")\n",
    "pl.set_ylabel(\"Number of biographies (Log scale)\")\n",
    "pl.set_title(\"Number of biographies by gender\");"
   ]
  },
  {
   "cell_type": "markdown",
   "metadata": {},
   "source": [
    "**Attention**: The y-axis in log-scale!"
   ]
  },
  {
   "cell_type": "code",
   "execution_count": null,
   "metadata": {},
   "outputs": [],
   "source": [
    "n_total = gender_counts_pd['count'].sum()\n",
    "n_male = gender_counts_pd[gender_counts_pd['gender'] == 'male']['count'].values[0]\n",
    "n_female = gender_counts_pd[gender_counts_pd['gender'] == 'female']['count'].values[0]\n",
    "n_other = n_total - n_male - n_female\n",
    "\n",
    "print(\"{:.2f}% of the entries are male\".format(n_male/n_total*100))\n",
    "print(\"{:.2f} % of the entries are female\".format(n_female/n_total*100))\n",
    "print(\"{:.2f} % of the entries are other gender\".format(n_other/n_total*100))"
   ]
  },
  {
   "cell_type": "markdown",
   "metadata": {},
   "source": [
    "Based on these numbers, we decide to **drop the other genders** and continue our analysis with only female and male."
   ]
  },
  {
   "cell_type": "markdown",
   "metadata": {},
   "source": [
    "## Data extraction\n",
    "Explain process of extraction of the data; combination of wikimedia and wikipedia; preprocessing steps."
   ]
  },
  {
   "cell_type": "code",
   "execution_count": null,
   "metadata": {},
   "outputs": [],
   "source": [
    "LOCAL_PATH = \"../data/\"\n",
    "WIKI_DATA = os.path.join(LOCAL_PATH, \"wikipedia_male_female.json\")"
   ]
  },
  {
   "cell_type": "code",
   "execution_count": null,
   "metadata": {},
   "outputs": [],
   "source": [
    "# Load data frame\n",
    "df = spark.read.json(WIKI_DATA)\n",
    "df.show()"
   ]
  },
  {
   "cell_type": "markdown",
   "metadata": {},
   "source": [
    "The previous table shows an example of the data we are working with. Each row represents the article of a given person with the following information associated:\n",
    "- Name\n",
    "- ID (wikimedia)\n",
    "- Wiki-title (wikipedia)\n",
    "- Gender\n",
    "- Ocuppation\n",
    "- Overview\n",
    "\n",
    "In the following steps we are going to explore how women are represented in wikipedia. First, we will start with some basic statistics like the fraction of entries that correspond to each gender and how this varies along different occupations. After, we will enter in the core analysis of the project by analysing the language used to present the different characters. The idea is to focus on the adjectives used in the overviews and look for a bias between male and female representations. \n",
    "**ADD SOME MORE DETAILS AND INTRODUCTION**"
   ]
  },
  {
   "cell_type": "markdown",
   "metadata": {},
   "source": [
    "## Data translation\n",
    "Translate wikimedia codes to the actual meaning in terms of gender and occupation.\n",
    "**Note:** Since we are interested in both gender and occupation, when the translation from wikimedia code to words is perform those people without associated occupation will be dropped from the dataset."
   ]
  },
  {
   "cell_type": "code",
   "execution_count": null,
   "metadata": {},
   "outputs": [],
   "source": [
    "# Open Gender dictionary\n",
    "with open('../data/dict_genders.json') as json_file:\n",
    "    line = json_file.readline()\n",
    "    dict_genders = json.loads(line)\n",
    "    \n",
    "# Open occupations dictionary\n",
    "dict_occupations = {}\n",
    "with open('../data/dict_occupations.json') as json_file:\n",
    "    content = json_file.readlines()\n",
    "    for line in content:\n",
    "        occ = json.loads(line)\n",
    "        dict_occupations.update(occ)\n",
    "        \n",
    "# Observation: We need dict_categories_occupations.json in the data folder\n",
    "# Open occupations categories dictionary\n",
    "with open('../data/dict_categories_occupations.json') as json_file:\n",
    "    line = json_file.readline()\n",
    "    dict_cat_occ = json.loads(line)\n",
    "\n",
    "# Create function to translate a code into a category\n",
    "def translate(mapping):\n",
    "    def translate_(col):\n",
    "        return mapping.get(col)\n",
    "    return udf(translate_, StringType())"
   ]
  },
  {
   "cell_type": "code",
   "execution_count": null,
   "metadata": {},
   "outputs": [],
   "source": [
    "# Translate gender and occupations codes into corresponding labels\n",
    "df = df.withColumn('gender', translate(dict_genders)('gender'))\\\n",
    "       .withColumn('occupation', explode(split(regexp_replace(regexp_replace(regexp_replace\\\n",
    "                                (regexp_replace(df['occupation'], '\\\\[', ''), '\\\\]', ''), ' ', ''),\"'\", \"\"), \",\")))\\\n",
    "       .filter(col('occupation') != '')\\\n",
    "       .withColumn('occupation', translate(dict_occupations)('occupation'))\\\n",
    "       .withColumn('field', translate(dict_cat_occ)('occupation'))\n",
    "\n",
    "df.show()"
   ]
  },
  {
   "cell_type": "markdown",
   "metadata": {},
   "source": [
    "## TODO: solve display of table"
   ]
  },
  {
   "cell_type": "markdown",
   "metadata": {},
   "source": [
    "### Gender distribution"
   ]
  },
  {
   "cell_type": "code",
   "execution_count": null,
   "metadata": {},
   "outputs": [],
   "source": [
    "# Query to know how many males and females are in the data frame\n",
    "# Observation: When occupation translation is done, the observations without a label are dropped, that's why, there are less male and female\n",
    "df.registerTempTable(\"df\")\n",
    "\n",
    "query = \"\"\"\n",
    "SELECT gender, count(DISTINCT id) as count\n",
    "FROM df\n",
    "GROUP BY gender\n",
    "ORDER BY count DESC\n",
    "\"\"\"\n",
    "\n",
    "gender_counts = spark.sql(query)\n",
    "gender_counts = gender_counts.toPandas()\n",
    "gender_counts"
   ]
  },
  {
   "cell_type": "code",
   "execution_count": null,
   "metadata": {},
   "outputs": [],
   "source": [
    "pl = gender_counts.plot(kind=\"bar\", x=\"gender\", y=\"count\", figsize=(15, 7), log=False, \\\n",
    "                        alpha=0.5, color=\"green\", rot=0)\n",
    "pl.set_xlabel(\"Gender\")\n",
    "pl.set_ylabel(\"Number of biographies\")\n",
    "pl.set_title(\"Number of biographies by gender\");"
   ]
  },
  {
   "cell_type": "markdown",
   "metadata": {},
   "source": [
    "### Occupation distribution"
   ]
  },
  {
   "cell_type": "code",
   "execution_count": null,
   "metadata": {},
   "outputs": [],
   "source": [
    "df.registerTempTable(\"df\")\n",
    "\n",
    "query = \"\"\"\n",
    "SELECT field, count(DISTINCT id) as count\n",
    "FROM df\n",
    "WHERE field IS NOT NULL\n",
    "GROUP BY field\n",
    "ORDER BY count DESC\n",
    "\"\"\"\n",
    "\n",
    "occu_cat_counts = spark.sql(query)\n",
    "occu_cat_counts = occu_cat_counts.toPandas()\n",
    "occu_cat_counts.head()"
   ]
  },
  {
   "cell_type": "code",
   "execution_count": null,
   "metadata": {},
   "outputs": [],
   "source": [
    "pl = occu_cat_counts.plot(kind=\"bar\", x=\"field\", y=\"count\", figsize=(15, 7), log=False, \\\n",
    "                          alpha=0.5, color=\"green\", rot=0)\n",
    "pl.set_xlabel(\"Field of occupation\")\n",
    "pl.set_ylabel(\"Number of biographies\")\n",
    "pl.set_title(\"Number of biographies by field of occupation\");"
   ]
  },
  {
   "cell_type": "markdown",
   "metadata": {},
   "source": [
    "The most common occupation among our characters is **Sports** followed by **Artist** and **Politics**. The group **None** represents all those occupations that did not match any of the previous groups. "
   ]
  },
  {
   "cell_type": "code",
   "execution_count": null,
   "metadata": {},
   "outputs": [],
   "source": [
    "n_total = occu_cat_counts['count'].sum()\n",
    "n_sports = occu_cat_counts[occu_cat_counts['field'] == 'Sports']['count'].values[0]\n",
    "n_artist = occu_cat_counts[occu_cat_counts['field'] == 'Artist']['count'].values[0]\n",
    "n_politics = occu_cat_counts[occu_cat_counts['field'] == 'Politics']['count'].values[0]\n",
    "\n",
    "print(\"{:.2f}% of the entries work in the sports field\".format(n_sports/n_total*100))\n",
    "print(\"{:.2f}% of the entries work in the artistic field\".format(n_artist/n_total*100))\n",
    "print(\"{:.2f}% of the entries work in the politics field\".format(n_politics/n_total*100))"
   ]
  },
  {
   "cell_type": "markdown",
   "metadata": {},
   "source": [
    "### Gender by occupation\n",
    "\n",
    "How are the distinct genders represented within the different occupational groups? Is there any group where women have a greater representation than men?"
   ]
  },
  {
   "cell_type": "code",
   "execution_count": null,
   "metadata": {},
   "outputs": [],
   "source": [
    "df.registerTempTable(\"df\")\n",
    "\n",
    "query = \"\"\"\n",
    "SELECT field, gender, count(DISTINCT id) as count\n",
    "FROM df\n",
    "WHERE field IS NOT NULL\n",
    "GROUP BY field, gender\n",
    "ORDER BY field, gender\n",
    "\"\"\"\n",
    "\n",
    "occu_gender_counts = spark.sql(query)\n",
    "occu_gender_counts = occu_gender_counts.toPandas()\n",
    "occu_gender_counts.head()"
   ]
  },
  {
   "cell_type": "markdown",
   "metadata": {},
   "source": [
    "From the plot we can point out different details: \n",
    "- Female biographies are less in all fields except **Model** which is associated to the mode industry. In this case, for each 5 biographies related to female characters we have one male biography.\n",
    "- **Religion** and **Military** are the groups where the ratio female:male becomes larger. In religion related biographies for each female we will find 69 males. In military related ones, for each female we will find 62 males.\n",
    "- The most balanced occupational field is **Artist** where the ratio female:male is of 1:3\"\n",
    "   "
   ]
  },
  {
   "cell_type": "code",
   "execution_count": null,
   "metadata": {},
   "outputs": [],
   "source": [
    "male_count = occu_gender_counts[occu_gender_counts['gender'] == 'male']['count'].tolist()\n",
    "female_count = occu_gender_counts[occu_gender_counts['gender'] == 'female']['count'].tolist()\n",
    "index = occu_gender_counts['field'].unique().tolist()\n",
    "occ_by_gender = pd.DataFrame({'male': male_count, 'female': female_count}, index=index)\n",
    "\n",
    "fig, ax = plt.subplots(2, 1, figsize=(15, 14))\n",
    "pl = occ_by_gender.plot(kind=\"bar\", log=False, alpha=0.5, color=[\"green\", \"red\"], rot=0, ax=ax[0])\n",
    "pl.set_xlabel(\"Field of occupation\")\n",
    "pl.set_ylabel(\"Number of biographies\")\n",
    "pl.set_title(\"Number of biographies by gender and field of occupation\");\n",
    "             \n",
    "occ_by_gender['ratio'] = occ_by_gender.apply(lambda x: x.male / x.female, axis=1)\n",
    "pl = occ_by_gender.plot(kind=\"bar\", y='ratio', alpha=0.5, color='green', rot=0, ax=ax[1])\n",
    "for p in ax[1].patches:\n",
    "    disp= '{:.1f}'.format(p.get_height())\n",
    "    ax[1].annotate(disp, (p.get_x() * 1.005, p.get_height() +0.5))\n",
    "pl.set_xlabel(\"Field of occupation\")\n",
    "pl.set_ylabel(\"Number of biographies\")\n",
    "pl.set_title(\"Ratio of female:male biographies by field of occupation\");"
   ]
  },
  {
   "cell_type": "code",
   "execution_count": null,
   "metadata": {},
   "outputs": [],
   "source": []
  }
 ],
 "metadata": {
  "kernelspec": {
   "display_name": "Python 3",
   "language": "python",
   "name": "python3"
  },
  "language_info": {
   "codemirror_mode": {
    "name": "ipython",
    "version": 3
   },
   "file_extension": ".py",
   "mimetype": "text/x-python",
   "name": "python",
   "nbconvert_exporter": "python",
   "pygments_lexer": "ipython3",
   "version": "3.7.4"
  }
 },
 "nbformat": 4,
 "nbformat_minor": 4
}
