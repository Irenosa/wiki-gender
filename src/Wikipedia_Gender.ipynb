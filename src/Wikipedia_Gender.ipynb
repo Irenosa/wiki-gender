{
 "cells": [
  {
   "cell_type": "code",
   "execution_count": 109,
   "metadata": {},
   "outputs": [],
   "source": [
    "from pyspark.sql import *\n",
    "from pyspark.sql.functions import *\n",
    "from pyspark import SparkContext\n",
    "from pyspark.sql.types import StringType\n",
    "from pyspark.sql.functions import udf\n",
    "#from createDataset.params import *\n",
    "import os\n",
    "import json\n",
    "import pandas as pd\n",
    "\n",
    "import matplotlib.pyplot as plt"
   ]
  },
  {
   "cell_type": "code",
   "execution_count": 23,
   "metadata": {},
   "outputs": [],
   "source": [
    "LOCAL_PATH = \"../Project/data/\"\n",
    "WIKI_DATA = os.path.join(LOCAL_PATH, \"wikipedia_male_female.json\")"
   ]
  },
  {
   "cell_type": "code",
   "execution_count": 100,
   "metadata": {},
   "outputs": [
    {
     "name": "stdout",
     "output_type": "stream",
     "text": [
      "+--------+---------+--------------------+--------------------+--------------------+--------------------+\n",
      "|  gender|       id|                name|          occupation|            overview|          wiki-title|\n",
      "+--------+---------+--------------------+--------------------+--------------------+--------------------+\n",
      "|Q6581097|Q26998233|       A. E. Pickard|                  []|Albert Ernest Pic...|       A. E. Pickard|\n",
      "|Q6581097| Q4647941|       A. J. Masters|['Q177220', 'Q753...|Arthur John Masar...|       A. J. Masters|\n",
      "|Q6581097| Q4648064|A. L. A. Himmelwr...|['Q13582652', 'Q8...|Abraham Lincoln A...|A. L. A. Himmelwr...|\n",
      "|Q6581097| Q4647256|  A. N. Sattampillai|        ['Q1234713']|Arumai Nayakam Sa...|  A. N. Sattampillai|\n",
      "|Q6581097|   Q84136|         A. Vellayan|          ['Q43845']|A. Vellayan (born...|         A. Vellayan|\n",
      "|Q6581097|Q16030065|   A. W. Kjellstrand|        ['Q3246315']|August William Kj...|   A. W. Kjellstrand|\n",
      "|Q6581097| Q4661199|    Aage Fahrenholtz|       ['Q11338576']|Karl Aage Fahrenh...|    Aage Fahrenholtz|\n",
      "|Q6581097| Q4662188|     Aaron Ledgister|         ['Q937857']|Aaron Turone Ledg...|     Aaron Ledgister|\n",
      "|Q6581097|Q21176713|Aaron Manasses Mc...|          ['Q82955']|Aaron Manasses Mc...|Aaron Manasses Mc...|\n",
      "|Q6581097| Q1385420|         Aaron Pryor|       ['Q11338576']|Aaron Pryor (Octo...|         Aaron Pryor|\n",
      "|Q6581097|Q16216136|       Aaron Trahair|        ['Q3665646']|Aaron Trahair (bo...|       Aaron Trahair|\n",
      "|Q6581097|  Q303758|      Aatos Lehtonen|['Q937857', 'Q133...|Aatos Ensio Lehto...|      Aatos Lehtonen|\n",
      "|Q6581072| Q2820848|         Abby Kelley|['Q34074720', 'Q3...|Abby Kelley Foste...|         Abby Kelley|\n",
      "|Q6581072| Q4664478|            Abby May|['Q7019111', 'Q27...|Abigail  Alcott (...|            Abby May|\n",
      "|Q6581097|  Q423600|`Abd Allah ibn `A...|['Q12912932', 'Q2...|Abd Allah ibn Abb...| Abd Allah ibn Abbas|\n",
      "|Q6581097| Q2820911|Abd al-Rahman ibn...|         ['Q189290']|Ibn al-Ashʿath af...|Abd al-Rahman ibn...|\n",
      "|Q6581097| Q3561650|    Abdallah Mohamed|          ['Q82955']|Abdallah Mohamed ...|    Abdallah Mohamed|\n",
      "|Q6581097| Q1150220|Abdel Jabbar Dhif...|       ['Q11513337']|Abdel Jabbar Dhif...|Abdel Jabbar Dhif...|\n",
      "|Q6581097| Q4664769|   Abdel Moneim Amin|          ['Q82955']|Abdel Moneim Amin...|   Abdel Moneim Amin|\n",
      "|Q6581097| Q4664774|   Abdel Rahman Sule|          ['Q82955']|Abdel Rahman Sule...|   Abdel Rahman Sule|\n",
      "+--------+---------+--------------------+--------------------+--------------------+--------------------+\n",
      "only showing top 20 rows\n",
      "\n"
     ]
    }
   ],
   "source": [
    "# create the session\n",
    "spark = SparkSession.builder.getOrCreate()\n",
    "\n",
    "# create the context\n",
    "sc = spark.sparkContext\n",
    "\n",
    "# Load data frame\n",
    "df = spark.read.json(WIKI_DATA)\n",
    "df.show()"
   ]
  },
  {
   "cell_type": "code",
   "execution_count": 108,
   "metadata": {},
   "outputs": [
    {
     "ename": "FileNotFoundError",
     "evalue": "[Errno 2] No such file or directory: 'wiki-gender/data/dict_categories_occupations.json'",
     "output_type": "error",
     "traceback": [
      "\u001b[0;31m---------------------------------------------------------------------------\u001b[0m",
      "\u001b[0;31mFileNotFoundError\u001b[0m                         Traceback (most recent call last)",
      "\u001b[0;32m<ipython-input-108-5dc0fc1c4470>\u001b[0m in \u001b[0;36m<module>\u001b[0;34m\u001b[0m\n\u001b[1;32m     13\u001b[0m \u001b[0;34m\u001b[0m\u001b[0m\n\u001b[1;32m     14\u001b[0m \u001b[0;31m# Open occupations categories dictionary\u001b[0m\u001b[0;34m\u001b[0m\u001b[0;34m\u001b[0m\u001b[0;34m\u001b[0m\u001b[0m\n\u001b[0;32m---> 15\u001b[0;31m \u001b[0;32mwith\u001b[0m \u001b[0mopen\u001b[0m\u001b[0;34m(\u001b[0m\u001b[0;34m'wiki-gender/data/dict_categories_occupations.json'\u001b[0m\u001b[0;34m)\u001b[0m \u001b[0;32mas\u001b[0m \u001b[0mjson_file\u001b[0m\u001b[0;34m:\u001b[0m\u001b[0;34m\u001b[0m\u001b[0;34m\u001b[0m\u001b[0m\n\u001b[0m\u001b[1;32m     16\u001b[0m     \u001b[0mline\u001b[0m \u001b[0;34m=\u001b[0m \u001b[0mjson_file\u001b[0m\u001b[0;34m.\u001b[0m\u001b[0mreadline\u001b[0m\u001b[0;34m(\u001b[0m\u001b[0;34m)\u001b[0m\u001b[0;34m\u001b[0m\u001b[0;34m\u001b[0m\u001b[0m\n\u001b[1;32m     17\u001b[0m     \u001b[0mdict_cat_occ\u001b[0m \u001b[0;34m=\u001b[0m \u001b[0mjson\u001b[0m\u001b[0;34m.\u001b[0m\u001b[0mloads\u001b[0m\u001b[0;34m(\u001b[0m\u001b[0mline\u001b[0m\u001b[0;34m)\u001b[0m\u001b[0;34m\u001b[0m\u001b[0;34m\u001b[0m\u001b[0m\n",
      "\u001b[0;31mFileNotFoundError\u001b[0m: [Errno 2] No such file or directory: 'wiki-gender/data/dict_categories_occupations.json'"
     ]
    }
   ],
   "source": [
    "# Open Gender dictionary\n",
    "with open('wiki-gender/data/dict_genders.json') as json_file:\n",
    "    line = json_file.readline()\n",
    "    dict_genders = json.loads(line)\n",
    "    \n",
    "# Open occupations dictionary\n",
    "dict_occupations = {}\n",
    "with open('wiki-gender/data/dict_occupations.json') as json_file:\n",
    "    content = json_file.readlines()\n",
    "    for line in content:\n",
    "        occ = json.loads(line)\n",
    "        dict_occupations.update(occ)\n",
    "        \n",
    "# Observation: We need dict_categories_occupations.json in the data folder\n",
    "# Open occupations categories dictionary\n",
    "with open('wiki-gender/data/dict_categories_occupations.json') as json_file:\n",
    "    line = json_file.readline()\n",
    "    dict_cat_occ = json.loads(line)\n",
    "\n",
    "# Create function to translate a code into a category\n",
    "def translate(mapping):\n",
    "    def translate_(col):\n",
    "        return mapping.get(col)\n",
    "    return udf(translate_, StringType())"
   ]
  },
  {
   "cell_type": "code",
   "execution_count": 101,
   "metadata": {},
   "outputs": [
    {
     "name": "stdout",
     "output_type": "stream",
     "text": [
      "+------+---------+--------------------+--------------------+--------------------+--------------------+\n",
      "|gender|       id|                name|          occupation|            overview|          wiki-title|\n",
      "+------+---------+--------------------+--------------------+--------------------+--------------------+\n",
      "|  male| Q4647941|       A. J. Masters|              singer|Arthur John Masar...|       A. J. Masters|\n",
      "|  male| Q4647941|       A. J. Masters|          songwriter|Arthur John Masar...|       A. J. Masters|\n",
      "|  male| Q4648064|A. L. A. Himmelwr...|      civil engineer|Abraham Lincoln A...|A. L. A. Himmelwr...|\n",
      "|  male| Q4648064|A. L. A. Himmelwr...|            engineer|Abraham Lincoln A...|A. L. A. Himmelwr...|\n",
      "|  male| Q4647256|  A. N. Sattampillai|          theologian|Arumai Nayakam Sa...|  A. N. Sattampillai|\n",
      "|  male|   Q84136|         A. Vellayan|      businessperson|A. Vellayan (born...|         A. Vellayan|\n",
      "|  male|Q16030065|   A. W. Kjellstrand|          head coach|August William Kj...|   A. W. Kjellstrand|\n",
      "|  male| Q4661199|    Aage Fahrenholtz|               boxer|Karl Aage Fahrenh...|    Aage Fahrenholtz|\n",
      "|  male| Q4662188|     Aaron Ledgister|association footb...|Aaron Turone Ledg...|     Aaron Ledgister|\n",
      "|  male|Q21176713|Aaron Manasses Mc...|          politician|Aaron Manasses Mc...|Aaron Manasses Mc...|\n",
      "|  male| Q1385420|         Aaron Pryor|               boxer|Aaron Pryor (Octo...|         Aaron Pryor|\n",
      "|  male|Q16216136|       Aaron Trahair|   basketball player|Aaron Trahair (bo...|       Aaron Trahair|\n",
      "|  male|  Q303758|      Aatos Lehtonen|association footb...|Aatos Ensio Lehto...|      Aatos Lehtonen|\n",
      "|  male|  Q303758|      Aatos Lehtonen|     handball player|Aatos Ensio Lehto...|      Aatos Lehtonen|\n",
      "|  male|  Q303758|      Aatos Lehtonen|        bandy player|Aatos Ensio Lehto...|      Aatos Lehtonen|\n",
      "|  male|  Q303758|      Aatos Lehtonen|   basketball player|Aatos Ensio Lehto...|      Aatos Lehtonen|\n",
      "|  male|  Q303758|      Aatos Lehtonen|association footb...|Aatos Ensio Lehto...|      Aatos Lehtonen|\n",
      "|female| Q2820848|         Abby Kelley|            feminist|Abby Kelley Foste...|         Abby Kelley|\n",
      "|female| Q2820848|         Abby Kelley|         suffragette|Abby Kelley Foste...|         Abby Kelley|\n",
      "|female| Q4664478|            Abby May|       social worker|Abigail  Alcott (...|            Abby May|\n",
      "+------+---------+--------------------+--------------------+--------------------+--------------------+\n",
      "only showing top 20 rows\n",
      "\n"
     ]
    }
   ],
   "source": [
    "# Translate gender and occupations codes into corresponding labels\n",
    "df = df.withColumn('gender', translate(dict_genders)('gender'))\\\n",
    "       .withColumn('occupation', explode(split(regexp_replace(regexp_replace(regexp_replace\\\n",
    "                                (regexp_replace(df['occupation'], '\\\\[', ''), '\\\\]', ''), ' ', ''),\"'\", \"\"), \",\")))\\\n",
    "       .filter(col('occupation') != '')\\\n",
    "       .withColumn('occupation', translate(dict_occupations)('occupation'))\\\n",
    "       .withColumn('field', translate(dict_cat_occ)('occupation'))\n",
    "\n",
    "df.show()"
   ]
  },
  {
   "cell_type": "code",
   "execution_count": 119,
   "metadata": {},
   "outputs": [
    {
     "data": {
      "text/html": [
       "<div>\n",
       "<style scoped>\n",
       "    .dataframe tbody tr th:only-of-type {\n",
       "        vertical-align: middle;\n",
       "    }\n",
       "\n",
       "    .dataframe tbody tr th {\n",
       "        vertical-align: top;\n",
       "    }\n",
       "\n",
       "    .dataframe thead th {\n",
       "        text-align: right;\n",
       "    }\n",
       "</style>\n",
       "<table border=\"1\" class=\"dataframe\">\n",
       "  <thead>\n",
       "    <tr style=\"text-align: right;\">\n",
       "      <th></th>\n",
       "      <th>gender</th>\n",
       "      <th>Count</th>\n",
       "    </tr>\n",
       "  </thead>\n",
       "  <tbody>\n",
       "    <tr>\n",
       "      <td>0</td>\n",
       "      <td>male</td>\n",
       "      <td>1091472</td>\n",
       "    </tr>\n",
       "    <tr>\n",
       "      <td>1</td>\n",
       "      <td>female</td>\n",
       "      <td>218580</td>\n",
       "    </tr>\n",
       "  </tbody>\n",
       "</table>\n",
       "</div>"
      ],
      "text/plain": [
       "   gender    Count\n",
       "0    male  1091472\n",
       "1  female   218580"
      ]
     },
     "execution_count": 119,
     "metadata": {},
     "output_type": "execute_result"
    }
   ],
   "source": [
    "# Query to know how many males and females are in the data frame\n",
    "# Observation: When occupation translation is done, the observations without a label are dropped, that's why, there are less male and female\n",
    "df.registerTempTable(\"df\")\n",
    "\n",
    "query = \"\"\"\n",
    "SELECT gender, count(DISTINCT id) as Count\n",
    "FROM df\n",
    "GROUP BY gender\n",
    "ORDER BY Count DESC\n",
    "\"\"\"\n",
    "\n",
    "gender_counts = spark.sql(query)\n",
    "gender_counts = gender_counts.toPandas()\n",
    "gender_counts"
   ]
  },
  {
   "cell_type": "code",
   "execution_count": 120,
   "metadata": {},
   "outputs": [
    {
     "data": {
      "image/png": "[encoded data removed]",
      "text/plain": [
       "<Figure size 720x504 with 1 Axes>"
      ]
     },
     "metadata": {
      "needs_background": "light"
     },
     "output_type": "display_data"
    }
   ],
   "source": [
    "pl = gender_counts.plot(kind=\"bar\", x=\"gender\", y=\"Count\", figsize=(10, 7), log=True, alpha=0.5, color=\"green\")\n",
    "pl.set_xlabel(\"Gender\")\n",
    "pl.set_ylabel(\"Number of biographies (Log scale)\")\n",
    "pl.set_title(\"Number of biographies by gender\");"
   ]
  },
  {
   "cell_type": "code",
   "execution_count": 107,
   "metadata": {},
   "outputs": [
    {
     "name": "stdout",
     "output_type": "stream",
     "text": [
      "+--------------------+---------+\n",
      "|          occupation|OccuCount|\n",
      "+--------------------+---------+\n",
      "|          politician|   190631|\n",
      "|association footb...|   143450|\n",
      "|               actor|    75065|\n",
      "|              writer|    74249|\n",
      "|                null|    46327|\n",
      "|          journalist|    40634|\n",
      "|              singer|    40407|\n",
      "|          film actor|    36061|\n",
      "|              lawyer|    36003|\n",
      "|            composer|    34922|\n",
      "|             painter|    34871|\n",
      "|    television actor|    33858|\n",
      "|  university teacher|    28371|\n",
      "|American football...|    27984|\n",
      "|                poet|    27144|\n",
      "|           cricketer|    26029|\n",
      "|     baseball player|    24437|\n",
      "|        screenwriter|    24383|\n",
      "|      businessperson|    24156|\n",
      "|  military personnel|    23504|\n",
      "+--------------------+---------+\n",
      "only showing top 20 rows\n",
      "\n"
     ]
    }
   ],
   "source": [
    "df.registerTempTable(\"df\")\n",
    "\n",
    "query = \"\"\"\n",
    "SELECT field, count(DISTINCT id) as Count\n",
    "FROM df\n",
    "GROUP BY field\n",
    "ORDER BY Count DESC\n",
    "\"\"\"\n",
    "\n",
    "occu_cat_counts = spark.sql(query)\n",
    "occu_cat_counts.toPandas()\n",
    "occu_cat_counts"
   ]
  },
  {
   "cell_type": "code",
   "execution_count": 121,
   "metadata": {},
   "outputs": [
    {
     "ename": "NameError",
     "evalue": "name 'occu_cat_counts' is not defined",
     "output_type": "error",
     "traceback": [
      "\u001b[0;31m---------------------------------------------------------------------------\u001b[0m",
      "\u001b[0;31mNameError\u001b[0m                                 Traceback (most recent call last)",
      "\u001b[0;32m<ipython-input-121-94dbda931f5a>\u001b[0m in \u001b[0;36m<module>\u001b[0;34m\u001b[0m\n\u001b[0;32m----> 1\u001b[0;31m \u001b[0mpl\u001b[0m \u001b[0;34m=\u001b[0m \u001b[0moccu_cat_counts\u001b[0m\u001b[0;34m.\u001b[0m\u001b[0mplot\u001b[0m\u001b[0;34m(\u001b[0m\u001b[0mkind\u001b[0m\u001b[0;34m=\u001b[0m\u001b[0;34m\"bar\"\u001b[0m\u001b[0;34m,\u001b[0m \u001b[0mx\u001b[0m\u001b[0;34m=\u001b[0m\u001b[0;34m\"field\"\u001b[0m\u001b[0;34m,\u001b[0m \u001b[0my\u001b[0m\u001b[0;34m=\u001b[0m\u001b[0;34m\"Count\"\u001b[0m\u001b[0;34m,\u001b[0m \u001b[0mfigsize\u001b[0m\u001b[0;34m=\u001b[0m\u001b[0;34m(\u001b[0m\u001b[0;36m10\u001b[0m\u001b[0;34m,\u001b[0m \u001b[0;36m7\u001b[0m\u001b[0;34m)\u001b[0m\u001b[0;34m,\u001b[0m \u001b[0mlog\u001b[0m\u001b[0;34m=\u001b[0m\u001b[0;32mTrue\u001b[0m\u001b[0;34m,\u001b[0m \u001b[0malpha\u001b[0m\u001b[0;34m=\u001b[0m\u001b[0;36m0.5\u001b[0m\u001b[0;34m,\u001b[0m \u001b[0mcolor\u001b[0m\u001b[0;34m=\u001b[0m\u001b[0;34m\"green\"\u001b[0m\u001b[0;34m)\u001b[0m\u001b[0;34m\u001b[0m\u001b[0;34m\u001b[0m\u001b[0m\n\u001b[0m\u001b[1;32m      2\u001b[0m \u001b[0mpl\u001b[0m\u001b[0;34m.\u001b[0m\u001b[0mset_xlabel\u001b[0m\u001b[0;34m(\u001b[0m\u001b[0;34m\"Occupation Category\"\u001b[0m\u001b[0;34m)\u001b[0m\u001b[0;34m\u001b[0m\u001b[0;34m\u001b[0m\u001b[0m\n\u001b[1;32m      3\u001b[0m \u001b[0mpl\u001b[0m\u001b[0;34m.\u001b[0m\u001b[0mset_ylabel\u001b[0m\u001b[0;34m(\u001b[0m\u001b[0;34m\"Number of biographies (Log scale)\"\u001b[0m\u001b[0;34m)\u001b[0m\u001b[0;34m\u001b[0m\u001b[0;34m\u001b[0m\u001b[0m\n\u001b[1;32m      4\u001b[0m \u001b[0mpl\u001b[0m\u001b[0;34m.\u001b[0m\u001b[0mset_title\u001b[0m\u001b[0;34m(\u001b[0m\u001b[0;34m\"Number of biographies by ocupations\"\u001b[0m\u001b[0;34m)\u001b[0m\u001b[0;34m;\u001b[0m\u001b[0;34m\u001b[0m\u001b[0;34m\u001b[0m\u001b[0m\n",
      "\u001b[0;31mNameError\u001b[0m: name 'occu_cat_counts' is not defined"
     ]
    }
   ],
   "source": [
    "pl = occu_cat_counts.plot(kind=\"bar\", x=\"field\", y=\"Count\", figsize=(10, 7), log=True, alpha=0.5, color=\"green\")\n",
    "pl.set_xlabel(\"Occupation Category\")\n",
    "pl.set_ylabel(\"Number of biographies (Log scale)\")\n",
    "pl.set_title(\"Number of biographies by ocupations\");"
   ]
  }
 ],
 "metadata": {
  "kernelspec": {
   "display_name": "Python 3",
   "language": "python",
   "name": "python3"
  },
  "language_info": {
   "codemirror_mode": {
    "name": "ipython",
    "version": 3
   },
   "file_extension": ".py",
   "mimetype": "text/x-python",
   "name": "python",
   "nbconvert_exporter": "python",
   "pygments_lexer": "ipython3",
   "version": "3.7.3"
  }
 },
 "nbformat": 4,
 "nbformat_minor": 4
}
