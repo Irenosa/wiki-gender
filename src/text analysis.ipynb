{
 "cells": [
  {
   "cell_type": "code",
   "execution_count": 2,
   "metadata": {},
   "outputs": [],
   "source": [
    "from nltk.stem import PorterStemmer, WordNetLemmatizer\n",
    "import nltk\n",
    "import spacy\n",
    "import string\n",
    "from nltk.corpus import stopwords\n",
    "import math\n",
    "from operator import itemgetter\n",
    "from collections import Counter\n",
    "\n",
    "import pandas as pd\n",
    "import re"
   ]
  },
  {
   "cell_type": "code",
   "execution_count": 3,
   "metadata": {},
   "outputs": [
    {
     "data": {
      "text/html": [
       "<div>\n",
       "<style scoped>\n",
       "    .dataframe tbody tr th:only-of-type {\n",
       "        vertical-align: middle;\n",
       "    }\n",
       "\n",
       "    .dataframe tbody tr th {\n",
       "        vertical-align: top;\n",
       "    }\n",
       "\n",
       "    .dataframe thead th {\n",
       "        text-align: right;\n",
       "    }\n",
       "</style>\n",
       "<table border=\"1\" class=\"dataframe\">\n",
       "  <thead>\n",
       "    <tr style=\"text-align: right;\">\n",
       "      <th></th>\n",
       "      <th>id</th>\n",
       "      <th>name</th>\n",
       "      <th>wiki-title</th>\n",
       "      <th>gender</th>\n",
       "      <th>occupation</th>\n",
       "      <th>overview</th>\n",
       "    </tr>\n",
       "  </thead>\n",
       "  <tbody>\n",
       "    <tr>\n",
       "      <td>0</td>\n",
       "      <td>Q4647484</td>\n",
       "      <td>A. A. Phillips</td>\n",
       "      <td>A. A. Phillips</td>\n",
       "      <td>['Q6581097']</td>\n",
       "      <td>['Q4263842']</td>\n",
       "      <td>'''Arthur Angell Phillips''' (1900–1985), gene...</td>\n",
       "    </tr>\n",
       "    <tr>\n",
       "      <td>1</td>\n",
       "      <td>Q20638732</td>\n",
       "      <td>A. F. Mujibur Rahman</td>\n",
       "      <td>A. F. Mujibur Rahman</td>\n",
       "      <td>['Q6581097']</td>\n",
       "      <td>['Q170790']</td>\n",
       "      <td>'''Abul Faiz Mujibur Rahman''' was born on Sep...</td>\n",
       "    </tr>\n",
       "    <tr>\n",
       "      <td>2</td>\n",
       "      <td>Q5304508</td>\n",
       "      <td>A. L. Rao</td>\n",
       "      <td>A. L. Rao</td>\n",
       "      <td>['Q6581097']</td>\n",
       "      <td>[]</td>\n",
       "      <td>'''A. Lakshman Rao''' is the former [[Chief Op...</td>\n",
       "    </tr>\n",
       "    <tr>\n",
       "      <td>3</td>\n",
       "      <td>Q2743474</td>\n",
       "      <td>A. N. Hornby</td>\n",
       "      <td>A. N. Hornby</td>\n",
       "      <td>['Q6581097']</td>\n",
       "      <td>['Q12299841', 'Q937857', 'Q14089670']</td>\n",
       "      <td>'''Albert Neilson Hornby''', nicknamed '''Monk...</td>\n",
       "    </tr>\n",
       "    <tr>\n",
       "      <td>4</td>\n",
       "      <td>Q4648519</td>\n",
       "      <td>A. W. Rabi Bernard</td>\n",
       "      <td>A. W. Rabi Bernard</td>\n",
       "      <td>['Q6581097']</td>\n",
       "      <td>['Q82955']</td>\n",
       "      <td>'''A. W. Rabi Bernard''' is an Indian politici...</td>\n",
       "    </tr>\n",
       "    <tr>\n",
       "      <td>...</td>\n",
       "      <td>...</td>\n",
       "      <td>...</td>\n",
       "      <td>...</td>\n",
       "      <td>...</td>\n",
       "      <td>...</td>\n",
       "      <td>...</td>\n",
       "    </tr>\n",
       "    <tr>\n",
       "      <td>13912</td>\n",
       "      <td>Q341346</td>\n",
       "      <td>Česlovas Sasnauskas</td>\n",
       "      <td>Česlovas Sasnauskas</td>\n",
       "      <td>['Q6581097']</td>\n",
       "      <td>['Q36834', 'Q765778']</td>\n",
       "      <td>'''Česlovas Sasnauskas''' (19 July 1867, in [[...</td>\n",
       "    </tr>\n",
       "    <tr>\n",
       "      <td>13913</td>\n",
       "      <td>Q3023449</td>\n",
       "      <td>Deo Van Long</td>\n",
       "      <td>Đèo Văn Long</td>\n",
       "      <td>['Q6581097']</td>\n",
       "      <td>['Q82955']</td>\n",
       "      <td>'''Đèo Văn Long''' (15 March 1887 &amp;ndash; 20 N...</td>\n",
       "    </tr>\n",
       "    <tr>\n",
       "      <td>13914</td>\n",
       "      <td>Q38304</td>\n",
       "      <td>Ēriks Pētersons</td>\n",
       "      <td>Ēriks Pētersons</td>\n",
       "      <td>['Q6581097']</td>\n",
       "      <td>['Q937857', 'Q11774891']</td>\n",
       "      <td>'''Ēriks Pētersons''' (1909 in [[Riga]] – 1987...</td>\n",
       "    </tr>\n",
       "    <tr>\n",
       "      <td>13915</td>\n",
       "      <td>Q9394622</td>\n",
       "      <td>Łukasz Janik</td>\n",
       "      <td>Łukasz Janik</td>\n",
       "      <td>['Q6581097']</td>\n",
       "      <td>['Q11338576']</td>\n",
       "      <td>'''Łukasz Janik''' (born 17 December 1985, in ...</td>\n",
       "    </tr>\n",
       "    <tr>\n",
       "      <td>13916</td>\n",
       "      <td>Q8080959</td>\n",
       "      <td>Łukasz Orbitowski</td>\n",
       "      <td>Łukasz Orbitowski</td>\n",
       "      <td>['Q6581097']</td>\n",
       "      <td>['Q18844224']</td>\n",
       "      <td>'''Łukasz Orbitowski''' (born 1977) is a Polis...</td>\n",
       "    </tr>\n",
       "  </tbody>\n",
       "</table>\n",
       "<p>13917 rows × 6 columns</p>\n",
       "</div>"
      ],
      "text/plain": [
       "              id                  name            wiki-title        gender  \\\n",
       "0       Q4647484        A. A. Phillips        A. A. Phillips  ['Q6581097']   \n",
       "1      Q20638732  A. F. Mujibur Rahman  A. F. Mujibur Rahman  ['Q6581097']   \n",
       "2       Q5304508             A. L. Rao             A. L. Rao  ['Q6581097']   \n",
       "3       Q2743474          A. N. Hornby          A. N. Hornby  ['Q6581097']   \n",
       "4       Q4648519    A. W. Rabi Bernard    A. W. Rabi Bernard  ['Q6581097']   \n",
       "...          ...                   ...                   ...           ...   \n",
       "13912    Q341346   Česlovas Sasnauskas   Česlovas Sasnauskas  ['Q6581097']   \n",
       "13913   Q3023449          Deo Van Long          Đèo Văn Long  ['Q6581097']   \n",
       "13914     Q38304       Ēriks Pētersons       Ēriks Pētersons  ['Q6581097']   \n",
       "13915   Q9394622          Łukasz Janik          Łukasz Janik  ['Q6581097']   \n",
       "13916   Q8080959     Łukasz Orbitowski     Łukasz Orbitowski  ['Q6581097']   \n",
       "\n",
       "                                  occupation  \\\n",
       "0                               ['Q4263842']   \n",
       "1                                ['Q170790']   \n",
       "2                                         []   \n",
       "3      ['Q12299841', 'Q937857', 'Q14089670']   \n",
       "4                                 ['Q82955']   \n",
       "...                                      ...   \n",
       "13912                  ['Q36834', 'Q765778']   \n",
       "13913                             ['Q82955']   \n",
       "13914               ['Q937857', 'Q11774891']   \n",
       "13915                          ['Q11338576']   \n",
       "13916                          ['Q18844224']   \n",
       "\n",
       "                                                overview  \n",
       "0      '''Arthur Angell Phillips''' (1900–1985), gene...  \n",
       "1      '''Abul Faiz Mujibur Rahman''' was born on Sep...  \n",
       "2      '''A. Lakshman Rao''' is the former [[Chief Op...  \n",
       "3      '''Albert Neilson Hornby''', nicknamed '''Monk...  \n",
       "4      '''A. W. Rabi Bernard''' is an Indian politici...  \n",
       "...                                                  ...  \n",
       "13912  '''Česlovas Sasnauskas''' (19 July 1867, in [[...  \n",
       "13913  '''Đèo Văn Long''' (15 March 1887 &ndash; 20 N...  \n",
       "13914  '''Ēriks Pētersons''' (1909 in [[Riga]] – 1987...  \n",
       "13915  '''Łukasz Janik''' (born 17 December 1985, in ...  \n",
       "13916  '''Łukasz Orbitowski''' (born 1977) is a Polis...  \n",
       "\n",
       "[13917 rows x 6 columns]"
      ]
     },
     "execution_count": 3,
     "metadata": {},
     "output_type": "execute_result"
    }
   ],
   "source": [
    "df = pd.read_json(\"data/wikipedia_sample.json\", lines=True)\n",
    "df"
   ]
  },
  {
   "cell_type": "code",
   "execution_count": null,
   "metadata": {},
   "outputs": [],
   "source": [
    "def clear_overview(dirty_overview):\n",
    "    # remove the <ref> </ref>\n",
    "    overview = re.sub('<ref.*</ref>', '', dirty_overview)\n",
    "    overview = re.sub('<ref.*/>', '', overview)\n",
    "\n",
    "    # remove {{ }} and what is inside\n",
    "    overview = re.sub('[\\{].*[\\}]', '', overview)\n",
    "    \n",
    "    # reomve [[File: ]] and [[Image: ]] and what is inside\n",
    "    overview = re.sub('\\[\\[File:.*?\\]\\]', '', overview)\n",
    "    overview = re.sub('\\[\\[Image:.*?\\]\\]', '', overview)\n",
    "\n",
    "    # remove [[ ]] and keep what is inside and for the cases like [[abc | def]] keep only def and remove the rest\n",
    "    overview = re.sub(r'\\[\\[(?:[^\\]|]*\\|)?([^\\]|]*)\\]\\]', r'\\1', overview)\n",
    "\n",
    "    # remove ''' ''' \n",
    "    overview = re.sub('\\'{2,3}', '', overview)\n",
    "\n",
    "    # remove \\n\n",
    "    overview = re.sub('\\n', '', overview)\n",
    "    \n",
    "    return overview"
   ]
  },
  {
   "cell_type": "markdown",
   "metadata": {},
   "source": [
    "## NLP"
   ]
  },
  {
   "cell_type": "code",
   "execution_count": 4,
   "metadata": {},
   "outputs": [],
   "source": [
    "nlp = spacy.load('en')"
   ]
  },
  {
   "cell_type": "code",
   "execution_count": 10,
   "metadata": {},
   "outputs": [],
   "source": [
    "def is_adjective(token):\n",
    "    if not token.is_stop:\n",
    "        if token.pos_ == 'ADJ':\n",
    "            return True\n",
    "        else:\n",
    "            return False\n",
    "    return False"
   ]
  },
  {
   "cell_type": "code",
   "execution_count": 11,
   "metadata": {},
   "outputs": [],
   "source": [
    "def get_adjectives(overview):\n",
    "    doc = nlp(overview)\n",
    "    adjs = [token.lemma_ for token in doc if is_adjective(token)]\n",
    "    return adjs"
   ]
  },
  {
   "cell_type": "code",
   "execution_count": 12,
   "metadata": {},
   "outputs": [],
   "source": [
    "df['adjectives'] = ''"
   ]
  },
  {
   "cell_type": "code",
   "execution_count": 13,
   "metadata": {},
   "outputs": [],
   "source": [
    "df['adjectives'] = df.overview.map(lambda x: get_adjectives(x))"
   ]
  },
  {
   "cell_type": "code",
   "execution_count": 14,
   "metadata": {},
   "outputs": [
    {
     "data": {
      "text/html": [
       "<div>\n",
       "<style scoped>\n",
       "    .dataframe tbody tr th:only-of-type {\n",
       "        vertical-align: middle;\n",
       "    }\n",
       "\n",
       "    .dataframe tbody tr th {\n",
       "        vertical-align: top;\n",
       "    }\n",
       "\n",
       "    .dataframe thead th {\n",
       "        text-align: right;\n",
       "    }\n",
       "</style>\n",
       "<table border=\"1\" class=\"dataframe\">\n",
       "  <thead>\n",
       "    <tr style=\"text-align: right;\">\n",
       "      <th></th>\n",
       "      <th>id</th>\n",
       "      <th>name</th>\n",
       "      <th>wiki-title</th>\n",
       "      <th>gender</th>\n",
       "      <th>occupation</th>\n",
       "      <th>overview</th>\n",
       "      <th>adjectives</th>\n",
       "    </tr>\n",
       "  </thead>\n",
       "  <tbody>\n",
       "    <tr>\n",
       "      <td>0</td>\n",
       "      <td>Q4647484</td>\n",
       "      <td>A. A. Phillips</td>\n",
       "      <td>A. A. Phillips</td>\n",
       "      <td>['Q6581097']</td>\n",
       "      <td>['Q4263842']</td>\n",
       "      <td>'''Arthur Angell Phillips''' (1900–1985), gene...</td>\n",
       "      <td>[cultural, cringe|cultural, pioneering, early,...</td>\n",
       "    </tr>\n",
       "    <tr>\n",
       "      <td>1</td>\n",
       "      <td>Q20638732</td>\n",
       "      <td>A. F. Mujibur Rahman</td>\n",
       "      <td>A. F. Mujibur Rahman</td>\n",
       "      <td>['Q6581097']</td>\n",
       "      <td>['Q170790']</td>\n",
       "      <td>'''Abul Faiz Mujibur Rahman''' was born on Sep...</td>\n",
       "      <td>[en.banglapedia.org|access]</td>\n",
       "    </tr>\n",
       "    <tr>\n",
       "      <td>2</td>\n",
       "      <td>Q5304508</td>\n",
       "      <td>A. L. Rao</td>\n",
       "      <td>A. L. Rao</td>\n",
       "      <td>['Q6581097']</td>\n",
       "      <td>[]</td>\n",
       "      <td>'''A. Lakshman Rao''' is the former [[Chief Op...</td>\n",
       "      <td>[important, instrumental, compliant, top, tota...</td>\n",
       "    </tr>\n",
       "    <tr>\n",
       "      <td>3</td>\n",
       "      <td>Q2743474</td>\n",
       "      <td>A. N. Hornby</td>\n",
       "      <td>A. N. Hornby</td>\n",
       "      <td>['Q6581097']</td>\n",
       "      <td>['Q12299841', 'Q937857', 'Q14089670']</td>\n",
       "      <td>'''Albert Neilson Hornby''', nicknamed '''Monk...</td>\n",
       "      <td>[nineteenth, australian]</td>\n",
       "    </tr>\n",
       "    <tr>\n",
       "      <td>4</td>\n",
       "      <td>Q4648519</td>\n",
       "      <td>A. W. Rabi Bernard</td>\n",
       "      <td>A. W. Rabi Bernard</td>\n",
       "      <td>['Q6581097']</td>\n",
       "      <td>['Q82955']</td>\n",
       "      <td>'''A. W. Rabi Bernard''' is an Indian politici...</td>\n",
       "      <td>[indian, incumbent, party.&lt;ref&gt;[http://www.tn....</td>\n",
       "    </tr>\n",
       "    <tr>\n",
       "      <td>...</td>\n",
       "      <td>...</td>\n",
       "      <td>...</td>\n",
       "      <td>...</td>\n",
       "      <td>...</td>\n",
       "      <td>...</td>\n",
       "      <td>...</td>\n",
       "      <td>...</td>\n",
       "    </tr>\n",
       "    <tr>\n",
       "      <td>13912</td>\n",
       "      <td>Q341346</td>\n",
       "      <td>Česlovas Sasnauskas</td>\n",
       "      <td>Česlovas Sasnauskas</td>\n",
       "      <td>['Q6581097']</td>\n",
       "      <td>['Q36834', 'Q765778']</td>\n",
       "      <td>'''Česlovas Sasnauskas''' (19 July 1867, in [[...</td>\n",
       "      <td>[lithuania|lithuanian]</td>\n",
       "    </tr>\n",
       "    <tr>\n",
       "      <td>13913</td>\n",
       "      <td>Q3023449</td>\n",
       "      <td>Deo Van Long</td>\n",
       "      <td>Đèo Văn Long</td>\n",
       "      <td>['Q6581097']</td>\n",
       "      <td>['Q82955']</td>\n",
       "      <td>'''Đèo Văn Long''' (15 March 1887 &amp;ndash; 20 N...</td>\n",
       "      <td>[french, non, gagna, ensuite, name=\"familysite...</td>\n",
       "    </tr>\n",
       "    <tr>\n",
       "      <td>13914</td>\n",
       "      <td>Q38304</td>\n",
       "      <td>Ēriks Pētersons</td>\n",
       "      <td>Ēriks Pētersons</td>\n",
       "      <td>['Q6581097']</td>\n",
       "      <td>['Q937857', 'Q11774891']</td>\n",
       "      <td>'''Ēriks Pētersons''' (1909 in [[Riga]] – 1987...</td>\n",
       "      <td>[latvia]]n, international, latvia, national, n...</td>\n",
       "    </tr>\n",
       "    <tr>\n",
       "      <td>13915</td>\n",
       "      <td>Q9394622</td>\n",
       "      <td>Łukasz Janik</td>\n",
       "      <td>Łukasz Janik</td>\n",
       "      <td>['Q6581097']</td>\n",
       "      <td>['Q11338576']</td>\n",
       "      <td>'''Łukasz Janik''' (born 17 December 1985, in ...</td>\n",
       "      <td>[professional]</td>\n",
       "    </tr>\n",
       "    <tr>\n",
       "      <td>13916</td>\n",
       "      <td>Q8080959</td>\n",
       "      <td>Łukasz Orbitowski</td>\n",
       "      <td>Łukasz Orbitowski</td>\n",
       "      <td>['Q6581097']</td>\n",
       "      <td>['Q18844224']</td>\n",
       "      <td>'''Łukasz Orbitowski''' (born 1977) is a Polis...</td>\n",
       "      <td>[polish, numerous, short]</td>\n",
       "    </tr>\n",
       "  </tbody>\n",
       "</table>\n",
       "<p>13917 rows × 7 columns</p>\n",
       "</div>"
      ],
      "text/plain": [
       "              id                  name            wiki-title        gender  \\\n",
       "0       Q4647484        A. A. Phillips        A. A. Phillips  ['Q6581097']   \n",
       "1      Q20638732  A. F. Mujibur Rahman  A. F. Mujibur Rahman  ['Q6581097']   \n",
       "2       Q5304508             A. L. Rao             A. L. Rao  ['Q6581097']   \n",
       "3       Q2743474          A. N. Hornby          A. N. Hornby  ['Q6581097']   \n",
       "4       Q4648519    A. W. Rabi Bernard    A. W. Rabi Bernard  ['Q6581097']   \n",
       "...          ...                   ...                   ...           ...   \n",
       "13912    Q341346   Česlovas Sasnauskas   Česlovas Sasnauskas  ['Q6581097']   \n",
       "13913   Q3023449          Deo Van Long          Đèo Văn Long  ['Q6581097']   \n",
       "13914     Q38304       Ēriks Pētersons       Ēriks Pētersons  ['Q6581097']   \n",
       "13915   Q9394622          Łukasz Janik          Łukasz Janik  ['Q6581097']   \n",
       "13916   Q8080959     Łukasz Orbitowski     Łukasz Orbitowski  ['Q6581097']   \n",
       "\n",
       "                                  occupation  \\\n",
       "0                               ['Q4263842']   \n",
       "1                                ['Q170790']   \n",
       "2                                         []   \n",
       "3      ['Q12299841', 'Q937857', 'Q14089670']   \n",
       "4                                 ['Q82955']   \n",
       "...                                      ...   \n",
       "13912                  ['Q36834', 'Q765778']   \n",
       "13913                             ['Q82955']   \n",
       "13914               ['Q937857', 'Q11774891']   \n",
       "13915                          ['Q11338576']   \n",
       "13916                          ['Q18844224']   \n",
       "\n",
       "                                                overview  \\\n",
       "0      '''Arthur Angell Phillips''' (1900–1985), gene...   \n",
       "1      '''Abul Faiz Mujibur Rahman''' was born on Sep...   \n",
       "2      '''A. Lakshman Rao''' is the former [[Chief Op...   \n",
       "3      '''Albert Neilson Hornby''', nicknamed '''Monk...   \n",
       "4      '''A. W. Rabi Bernard''' is an Indian politici...   \n",
       "...                                                  ...   \n",
       "13912  '''Česlovas Sasnauskas''' (19 July 1867, in [[...   \n",
       "13913  '''Đèo Văn Long''' (15 March 1887 &ndash; 20 N...   \n",
       "13914  '''Ēriks Pētersons''' (1909 in [[Riga]] – 1987...   \n",
       "13915  '''Łukasz Janik''' (born 17 December 1985, in ...   \n",
       "13916  '''Łukasz Orbitowski''' (born 1977) is a Polis...   \n",
       "\n",
       "                                              adjectives  \n",
       "0      [cultural, cringe|cultural, pioneering, early,...  \n",
       "1                            [en.banglapedia.org|access]  \n",
       "2      [important, instrumental, compliant, top, tota...  \n",
       "3                               [nineteenth, australian]  \n",
       "4      [indian, incumbent, party.<ref>[http://www.tn....  \n",
       "...                                                  ...  \n",
       "13912                             [lithuania|lithuanian]  \n",
       "13913  [french, non, gagna, ensuite, name=\"familysite...  \n",
       "13914  [latvia]]n, international, latvia, national, n...  \n",
       "13915                                     [professional]  \n",
       "13916                          [polish, numerous, short]  \n",
       "\n",
       "[13917 rows x 7 columns]"
      ]
     },
     "execution_count": 14,
     "metadata": {},
     "output_type": "execute_result"
    }
   ],
   "source": [
    "df"
   ]
  },
  {
   "cell_type": "code",
   "execution_count": 15,
   "metadata": {},
   "outputs": [
    {
     "data": {
      "text/plain": [
       "['indian',\n",
       " 'incumbent',\n",
       " 'party.<ref>[http://www.tn.gov.in',\n",
       " 'webarchive',\n",
       " 'web/20120920112326/http://www.tn.gov.in',\n",
       " 'international',\n",
       " 'national',\n",
       " 'national',\n",
       " 'nadu',\n",
       " 'rabi']"
      ]
     },
     "execution_count": 15,
     "metadata": {},
     "output_type": "execute_result"
    }
   ],
   "source": [
    "df.iloc[4].adjectives"
   ]
  },
  {
   "cell_type": "code",
   "execution_count": null,
   "metadata": {},
   "outputs": [],
   "source": [
    "df[df.adjectives.str.len() > 5].adjectives"
   ]
  },
  {
   "cell_type": "markdown",
   "metadata": {},
   "source": [
    "### Tokenization"
   ]
  },
  {
   "cell_type": "code",
   "execution_count": null,
   "metadata": {},
   "outputs": [],
   "source": [
    "doc = nlp(overview)\n",
    "\n",
    "#strings are encoded to hashes\n",
    "tokens = [token.text for token in doc]\n",
    "\n",
    "tokens[:10]"
   ]
  },
  {
   "cell_type": "markdown",
   "metadata": {},
   "source": [
    "### Removing stop words"
   ]
  },
  {
   "cell_type": "code",
   "execution_count": null,
   "metadata": {},
   "outputs": [],
   "source": [
    "spacy_stopwords = spacy.lang.en.stop_words.STOP_WORDS"
   ]
  },
  {
   "cell_type": "code",
   "execution_count": null,
   "metadata": {},
   "outputs": [],
   "source": [
    "non_stop_words_tokens = [token for token in doc if not token.is_stop]\n",
    "\n",
    "non_stop_words_tokens[:10]"
   ]
  },
  {
   "cell_type": "markdown",
   "metadata": {},
   "source": [
    "### PoS tagging"
   ]
  },
  {
   "cell_type": "code",
   "execution_count": null,
   "metadata": {},
   "outputs": [],
   "source": [
    "pos_tagged = [(token.text, token.pos_) for token in non_stop_words_tokens]\n",
    "\n",
    "pos_tagged[:5]"
   ]
  },
  {
   "cell_type": "code",
   "execution_count": null,
   "metadata": {},
   "outputs": [],
   "source": [
    "adjectives = [token[0] for token in pos_tagged if token[1] == 'ADJ']\n",
    "\n",
    "adjectives[:5]"
   ]
  },
  {
   "cell_type": "code",
   "execution_count": null,
   "metadata": {},
   "outputs": [],
   "source": [
    "words = [token.lemma_ for token in doc if is_adjective(token)]"
   ]
  },
  {
   "cell_type": "code",
   "execution_count": null,
   "metadata": {},
   "outputs": [],
   "source": [
    "words"
   ]
  },
  {
   "cell_type": "code",
   "execution_count": null,
   "metadata": {},
   "outputs": [],
   "source": [
    "from collections import Counter\n",
    "\n",
    "# five most common tokens\n",
    "word_freq = Counter(words)\n",
    "common_words = word_freq.most_common()\n",
    "\n",
    "print(common_words)"
   ]
  },
  {
   "cell_type": "markdown",
   "metadata": {},
   "source": [
    "## DICTIONARY"
   ]
  },
  {
   "cell_type": "code",
   "execution_count": null,
   "metadata": {},
   "outputs": [],
   "source": [
    "subjectivity_lexicon = {}"
   ]
  },
  {
   "cell_type": "code",
   "execution_count": null,
   "metadata": {},
   "outputs": [],
   "source": [
    "with open(\"data/subjectivity_lexicon.tff\", \"r\") as file:\n",
    "    for line in file:\n",
    "        elements = line.split(\" \")\n",
    "        word = elements[2][6:]\n",
    "        subjectivity_lexicon[word] = (elements[0][5:], elements[5][14:-1])"
   ]
  },
  {
   "cell_type": "code",
   "execution_count": null,
   "metadata": {},
   "outputs": [],
   "source": [
    "subjectivity_lexicon"
   ]
  },
  {
   "cell_type": "code",
   "execution_count": null,
   "metadata": {},
   "outputs": [],
   "source": [
    "for a in df.iloc[24].adjectives:\n",
    "    try:\n",
    "        print(a, subjectivity_lexicon[a])\n",
    "    except:\n",
    "        pass"
   ]
  },
  {
   "cell_type": "code",
   "execution_count": null,
   "metadata": {},
   "outputs": [],
   "source": [
    "df.iloc[24]"
   ]
  },
  {
   "cell_type": "code",
   "execution_count": null,
   "metadata": {},
   "outputs": [],
   "source": []
  }
 ],
 "metadata": {
  "kernelspec": {
   "display_name": "Python [conda env:ada] *",
   "language": "python",
   "name": "conda-env-ada-py"
  },
  "language_info": {
   "codemirror_mode": {
    "name": "ipython",
    "version": 3
   },
   "file_extension": ".py",
   "mimetype": "text/x-python",
   "name": "python",
   "nbconvert_exporter": "python",
   "pygments_lexer": "ipython3",
   "version": "3.7.4"
  }
 },
 "nbformat": 4,
 "nbformat_minor": 2
}
