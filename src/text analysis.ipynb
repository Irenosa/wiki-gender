{
 "cells": [
  {
   "cell_type": "code",
   "execution_count": 1,
   "metadata": {},
   "outputs": [],
   "source": [
    "from nltk.stem import PorterStemmer, WordNetLemmatizer\n",
    "import nltk\n",
    "import spacy\n",
    "import string\n",
    "from nltk.corpus import stopwords\n",
    "import math\n",
    "from operator import itemgetter\n",
    "from collections import Counter\n",
    "import json\n",
    "import numpy as np\n",
    "\n",
    "import pandas as pd\n",
    "import re\n",
    "import os"
   ]
  },
  {
   "cell_type": "code",
   "execution_count": 2,
   "metadata": {},
   "outputs": [
    {
     "data": {
      "text/html": [
       "<div>\n",
       "<style scoped>\n",
       "    .dataframe tbody tr th:only-of-type {\n",
       "        vertical-align: middle;\n",
       "    }\n",
       "\n",
       "    .dataframe tbody tr th {\n",
       "        vertical-align: top;\n",
       "    }\n",
       "\n",
       "    .dataframe thead th {\n",
       "        text-align: right;\n",
       "    }\n",
       "</style>\n",
       "<table border=\"1\" class=\"dataframe\">\n",
       "  <thead>\n",
       "    <tr style=\"text-align: right;\">\n",
       "      <th></th>\n",
       "      <th>gender</th>\n",
       "      <th>id</th>\n",
       "      <th>name</th>\n",
       "      <th>occupation</th>\n",
       "      <th>overview</th>\n",
       "      <th>wiki-title</th>\n",
       "    </tr>\n",
       "  </thead>\n",
       "  <tbody>\n",
       "    <tr>\n",
       "      <td>0</td>\n",
       "      <td>Q6581072</td>\n",
       "      <td>Q18921280</td>\n",
       "      <td>Aatka Feroz</td>\n",
       "      <td>['Q4610556', 'Q18581305']</td>\n",
       "      <td>Aatka Ahmed (born October 4, 1994) born as Aat...</td>\n",
       "      <td>Aatka Feroz</td>\n",
       "    </tr>\n",
       "    <tr>\n",
       "      <td>1</td>\n",
       "      <td>Q6581072</td>\n",
       "      <td>Q19282420</td>\n",
       "      <td>Abigail Mott</td>\n",
       "      <td>[]</td>\n",
       "      <td>Abigail Lydia Mott Moore (August 6, 1795 – Sep...</td>\n",
       "      <td>Abigail Mott</td>\n",
       "    </tr>\n",
       "    <tr>\n",
       "      <td>2</td>\n",
       "      <td>Q6581072</td>\n",
       "      <td>Q4681610</td>\n",
       "      <td>Adela Serra-Ty</td>\n",
       "      <td>['Q82955']</td>\n",
       "      <td>Doña Adela Serra-Ty was a Filipino politician ...</td>\n",
       "      <td>Adela Serra-Ty</td>\n",
       "    </tr>\n",
       "    <tr>\n",
       "      <td>3</td>\n",
       "      <td>Q6581072</td>\n",
       "      <td>Q4681744</td>\n",
       "      <td>Adelaide Lucy Fenton</td>\n",
       "      <td>['Q1475726']</td>\n",
       "      <td>Adelaide Lucy Fenton (1824 or 1825 – 6 Februar...</td>\n",
       "      <td>Adelaide Lucy Fenton</td>\n",
       "    </tr>\n",
       "    <tr>\n",
       "      <td>4</td>\n",
       "      <td>Q6581072</td>\n",
       "      <td>Q19840348</td>\n",
       "      <td>Adet Lin</td>\n",
       "      <td>['Q6625963', 'Q333634']</td>\n",
       "      <td>Adet Lin (; May 6, 1923 &amp;ndash; 1971) was a Ch...</td>\n",
       "      <td>Adet Lin</td>\n",
       "    </tr>\n",
       "  </tbody>\n",
       "</table>\n",
       "</div>"
      ],
      "text/plain": [
       "     gender         id                  name                 occupation  \\\n",
       "0  Q6581072  Q18921280           Aatka Feroz  ['Q4610556', 'Q18581305']   \n",
       "1  Q6581072  Q19282420          Abigail Mott                         []   \n",
       "2  Q6581072   Q4681610        Adela Serra-Ty                 ['Q82955']   \n",
       "3  Q6581072   Q4681744  Adelaide Lucy Fenton               ['Q1475726']   \n",
       "4  Q6581072  Q19840348              Adet Lin    ['Q6625963', 'Q333634']   \n",
       "\n",
       "                                            overview            wiki-title  \n",
       "0  Aatka Ahmed (born October 4, 1994) born as Aat...           Aatka Feroz  \n",
       "1  Abigail Lydia Mott Moore (August 6, 1795 – Sep...          Abigail Mott  \n",
       "2  Doña Adela Serra-Ty was a Filipino politician ...        Adela Serra-Ty  \n",
       "3  Adelaide Lucy Fenton (1824 or 1825 – 6 Februar...  Adelaide Lucy Fenton  \n",
       "4  Adet Lin (; May 6, 1923 &ndash; 1971) was a Ch...              Adet Lin  "
      ]
     },
     "execution_count": 2,
     "metadata": {},
     "output_type": "execute_result"
    }
   ],
   "source": [
    "df_fem = pd.read_json(\"../data/wikipedia_female_sample.json\", lines=True)\n",
    "df_fem.head()"
   ]
  },
  {
   "cell_type": "code",
   "execution_count": 3,
   "metadata": {},
   "outputs": [
    {
     "data": {
      "text/html": [
       "<div>\n",
       "<style scoped>\n",
       "    .dataframe tbody tr th:only-of-type {\n",
       "        vertical-align: middle;\n",
       "    }\n",
       "\n",
       "    .dataframe tbody tr th {\n",
       "        vertical-align: top;\n",
       "    }\n",
       "\n",
       "    .dataframe thead th {\n",
       "        text-align: right;\n",
       "    }\n",
       "</style>\n",
       "<table border=\"1\" class=\"dataframe\">\n",
       "  <thead>\n",
       "    <tr style=\"text-align: right;\">\n",
       "      <th></th>\n",
       "      <th>gender</th>\n",
       "      <th>id</th>\n",
       "      <th>name</th>\n",
       "      <th>occupation</th>\n",
       "      <th>overview</th>\n",
       "      <th>wiki-title</th>\n",
       "    </tr>\n",
       "  </thead>\n",
       "  <tbody>\n",
       "    <tr>\n",
       "      <td>0</td>\n",
       "      <td>Q6581097</td>\n",
       "      <td>Q25259</td>\n",
       "      <td>2nd Dalai Lama</td>\n",
       "      <td>['Q82955']</td>\n",
       "      <td>Gedun Gyatso, also Gendun Gyatso Palzangpo ( 1...</td>\n",
       "      <td>2nd Dalai Lama</td>\n",
       "    </tr>\n",
       "    <tr>\n",
       "      <td>1</td>\n",
       "      <td>Q6581097</td>\n",
       "      <td>Q4647736</td>\n",
       "      <td>A. E. de Silva</td>\n",
       "      <td>[]</td>\n",
       "      <td>A. E. de Silva Snr. was a prominent businessma...</td>\n",
       "      <td>A. E. de Silva</td>\n",
       "    </tr>\n",
       "    <tr>\n",
       "      <td>2</td>\n",
       "      <td>Q6581097</td>\n",
       "      <td>Q18645699</td>\n",
       "      <td>A. Lee Chandler</td>\n",
       "      <td>['Q16533']</td>\n",
       "      <td>Archie Lee Chandler was an associate justice o...</td>\n",
       "      <td>A. Lee Chandler</td>\n",
       "    </tr>\n",
       "    <tr>\n",
       "      <td>3</td>\n",
       "      <td>Q6581097</td>\n",
       "      <td>Q4648236</td>\n",
       "      <td>A. P. Shanmugasundara Goundar</td>\n",
       "      <td>['Q82955']</td>\n",
       "      <td>A. P. Shanmugasundara Goundar is  an Indian po...</td>\n",
       "      <td>A. P. Shanmugasundara Goundar</td>\n",
       "    </tr>\n",
       "    <tr>\n",
       "      <td>4</td>\n",
       "      <td>Q6581097</td>\n",
       "      <td>Q4648525</td>\n",
       "      <td>A. W. Vidmer</td>\n",
       "      <td>['Q2526255']</td>\n",
       "      <td>A. W.  Vidmer is a film director and screenwri...</td>\n",
       "      <td>A. W. Vidmer</td>\n",
       "    </tr>\n",
       "  </tbody>\n",
       "</table>\n",
       "</div>"
      ],
      "text/plain": [
       "     gender         id                           name    occupation  \\\n",
       "0  Q6581097     Q25259                 2nd Dalai Lama    ['Q82955']   \n",
       "1  Q6581097   Q4647736                 A. E. de Silva            []   \n",
       "2  Q6581097  Q18645699                A. Lee Chandler    ['Q16533']   \n",
       "3  Q6581097   Q4648236  A. P. Shanmugasundara Goundar    ['Q82955']   \n",
       "4  Q6581097   Q4648525                   A. W. Vidmer  ['Q2526255']   \n",
       "\n",
       "                                            overview  \\\n",
       "0  Gedun Gyatso, also Gendun Gyatso Palzangpo ( 1...   \n",
       "1  A. E. de Silva Snr. was a prominent businessma...   \n",
       "2  Archie Lee Chandler was an associate justice o...   \n",
       "3  A. P. Shanmugasundara Goundar is  an Indian po...   \n",
       "4  A. W.  Vidmer is a film director and screenwri...   \n",
       "\n",
       "                      wiki-title  \n",
       "0                 2nd Dalai Lama  \n",
       "1                 A. E. de Silva  \n",
       "2                A. Lee Chandler  \n",
       "3  A. P. Shanmugasundara Goundar  \n",
       "4                   A. W. Vidmer  "
      ]
     },
     "execution_count": 3,
     "metadata": {},
     "output_type": "execute_result"
    }
   ],
   "source": [
    "df_male = pd.read_json(\"../data/wikipedia_male_sample.json\", lines=True)\n",
    "df_male.head()"
   ]
  },
  {
   "cell_type": "markdown",
   "metadata": {},
   "source": [
    "## NLP Analysis"
   ]
  },
  {
   "cell_type": "code",
   "execution_count": 4,
   "metadata": {},
   "outputs": [
    {
     "data": {
      "text/plain": [
       "{'ADJ',\n",
       " 'ADP',\n",
       " 'ADV',\n",
       " 'AUX',\n",
       " 'CCONJ',\n",
       " 'DET',\n",
       " 'NOUN',\n",
       " 'NUM',\n",
       " 'PART',\n",
       " 'PRON',\n",
       " 'PROPN',\n",
       " 'PUNCT',\n",
       " 'SCONJ',\n",
       " 'VERB'}"
      ]
     },
     "execution_count": 4,
     "metadata": {},
     "output_type": "execute_result"
    }
   ],
   "source": [
    "# see grammatical categories\n",
    "nlp = spacy.load('en')\n",
    "doc = nlp(df_fem.iloc[0].overview)\n",
    "pos_tags = set()\n",
    "pos_tags.update([token.pos_ for token in doc])\n",
    "pos_tags"
   ]
  },
  {
   "cell_type": "code",
   "execution_count": 5,
   "metadata": {},
   "outputs": [],
   "source": [
    "# Load subjectivity lexicon\n",
    "if os.path.exists('../data/subjectivity_dictionary.json'):\n",
    "    subjectivity_dictionary = {}\n",
    "    \n",
    "    with open('../data/subjectivity_dictionary.json', 'r') as json_file:\n",
    "        for item in eval(json_file.readline()):\n",
    "            subjectivity_dictionary.update({item['word']: (item['strength'], item['subj'])})\n",
    "else:\n",
    "    subjectivity_dictionary = []\n",
    "\n",
    "    with open(\"../data/subjectivity_lexicon.tff\", \"r\") as file:\n",
    "        for line in file:\n",
    "            elements = line.split(\" \")\n",
    "            word = elements[2][6:]\n",
    "            subjectivity_dictionary.append({'word': word, 'strength': elements[0][5:], 'subj': elements[5][14:-1]})\n",
    "\n",
    "    with open('../data/subjectivity_dictionary.json', 'w') as outfile:\n",
    "        json.dump(subjectivity_dictionary, outfile)\n",
    "        \n",
    "    subjectivity_dictionary = {}\n",
    "    \n",
    "    with open('../data/subjectivity_dictionary.json', 'r') as json_file:\n",
    "        for item in eval(json_file.readline()):\n",
    "            subjectivity_dictionary.update({item['word']: (item['strength'], item['subj'])})"
   ]
  },
  {
   "cell_type": "code",
   "execution_count": 6,
   "metadata": {},
   "outputs": [],
   "source": [
    "def is_noun(token):\n",
    "    # check the token is not a stop word\n",
    "    if not token.is_stop:\n",
    "        # check the token is a noun (common noun)\n",
    "        return token.pos_ == 'NOUN'"
   ]
  },
  {
   "cell_type": "code",
   "execution_count": 7,
   "metadata": {},
   "outputs": [],
   "source": [
    "def is_verb(token):\n",
    "    # check the token is not a stop word\n",
    "    if not token.is_stop:\n",
    "        # check the token is a noun (common noun)\n",
    "        return token.pos_ == 'VERB'"
   ]
  },
  {
   "cell_type": "code",
   "execution_count": 8,
   "metadata": {},
   "outputs": [],
   "source": [
    "def is_adjective(token, dictionary):\n",
    "    # check the token is not a stop word\n",
    "    if not token.is_stop:\n",
    "        # check the token is an adjective\n",
    "        if token.pos_ == 'ADJ':\n",
    "            # check the lemma of the token if in the dictionary\n",
    "            return token.lemma_ in dictionary"
   ]
  },
  {
   "cell_type": "code",
   "execution_count": 9,
   "metadata": {},
   "outputs": [],
   "source": [
    "def get_adjectives(overview):\n",
    "    # get data to perform nlp analysis\n",
    "    nlp = spacy.load('en') # english language\n",
    "    doc = nlp(overview)\n",
    "    # get lemma of the adjectives that are in the subjectivity lexicon\n",
    "    adjs = [token.lemma_ for token in doc if is_adjective(token, subjectivity_dictionary)]\n",
    "    return adjs"
   ]
  },
  {
   "cell_type": "code",
   "execution_count": 10,
   "metadata": {},
   "outputs": [],
   "source": [
    "try:\n",
    "    df_fem = pd.read_csv('../data/female_adjectives.csv')\n",
    "    df_male = pd.read_csv('../data/male_adjectives.csv')\n",
    "except: # takes a lot of time\n",
    "    df_fem['adjectives'] = ''\n",
    "    df_male['adjectives'] = ''\n",
    "\n",
    "    df_fem['adjectives'] = df_fem.overview.map(lambda x: get_adjectives(x))\n",
    "    df_male['adjectives'] = df_male.overview.map(lambda x: get_adjectives(x))\n",
    "    \n",
    "    df_fem.to_csv('../data/female_adjectives.csv', index=False)\n",
    "    df_male.to_csv('../data/male_adjectives.csv', index=False)"
   ]
  },
  {
   "cell_type": "markdown",
   "metadata": {},
   "source": [
    "We filter the dataset so that entries have at least 3 adjectives."
   ]
  },
  {
   "cell_type": "code",
   "execution_count": 11,
   "metadata": {
    "scrolled": true
   },
   "outputs": [
    {
     "data": {
      "text/plain": [
       "833"
      ]
     },
     "execution_count": 11,
     "metadata": {},
     "output_type": "execute_result"
    }
   ],
   "source": [
    "df_fem_filtered = df_fem[df_fem.adjectives.str.len() > 3].copy()\n",
    "n_fem = len(df_fem_filtered)\n",
    "n_fem"
   ]
  },
  {
   "cell_type": "code",
   "execution_count": 12,
   "metadata": {},
   "outputs": [
    {
     "data": {
      "text/plain": [
       "4492"
      ]
     },
     "execution_count": 12,
     "metadata": {},
     "output_type": "execute_result"
    }
   ],
   "source": [
    "df_male_filtered = df_male[df_male.adjectives.str.len() > 3].copy()\n",
    "n_male = len(df_male_filtered)\n",
    "n_male"
   ]
  },
  {
   "cell_type": "code",
   "execution_count": 13,
   "metadata": {},
   "outputs": [
    {
     "data": {
      "text/plain": [
       "833"
      ]
     },
     "execution_count": 13,
     "metadata": {},
     "output_type": "execute_result"
    }
   ],
   "source": [
    "df_male_filtered_balanced = df_male_filtered.iloc[:n_fem].copy()\n",
    "len(df_male_filtered_balanced)"
   ]
  },
  {
   "cell_type": "markdown",
   "metadata": {},
   "source": [
    "## Get most common adjectives"
   ]
  },
  {
   "cell_type": "markdown",
   "metadata": {},
   "source": [
    "Computed with all the entries."
   ]
  },
  {
   "cell_type": "code",
   "execution_count": 14,
   "metadata": {},
   "outputs": [],
   "source": [
    "def most_common_words(list_words, n_most_common):\n",
    "    most_common_count = Counter(list_words).most_common()[:n_most_common]\n",
    "    most_common = [count[0] for count in most_common_count]\n",
    "    return most_common"
   ]
  },
  {
   "cell_type": "code",
   "execution_count": 15,
   "metadata": {},
   "outputs": [],
   "source": [
    "all_adj_fem = [item for sublist in df_fem['adjectives'].values for item in eval(sublist)]\n",
    "all_adj_male = [item for sublist in df_male['adjectives'].values for item in eval(sublist)]\n",
    "\n",
    "most_common_adj_fem = most_common_words(all_adj_fem, 100)\n",
    "most_common_adj_male = most_common_words(all_adj_male, 100)"
   ]
  },
  {
   "cell_type": "markdown",
   "metadata": {},
   "source": [
    "## Model"
   ]
  },
  {
   "cell_type": "code",
   "execution_count": 16,
   "metadata": {},
   "outputs": [],
   "source": [
    "from sklearn.linear_model import LogisticRegression\n",
    "from sklearn.model_selection import train_test_split\n",
    "from sklearn.metrics import confusion_matrix"
   ]
  },
  {
   "cell_type": "code",
   "execution_count": 17,
   "metadata": {},
   "outputs": [
    {
     "data": {
      "text/plain": [
       "124"
      ]
     },
     "execution_count": 17,
     "metadata": {},
     "output_type": "execute_result"
    }
   ],
   "source": [
    "most_common_adj = set()\n",
    "most_common_adj.update(most_common_adj_male)\n",
    "most_common_adj.update(most_common_adj_fem)\n",
    "len(most_common_adj)"
   ]
  },
  {
   "cell_type": "code",
   "execution_count": 18,
   "metadata": {},
   "outputs": [],
   "source": [
    "def encode_input(list_words_present, list_words_to_encode):\n",
    "    encoding = np.zeros(len(list_words_to_encode))\n",
    "    for i, adj in enumerate(list_words_to_encode):\n",
    "        if adj in list_words_present:\n",
    "            encoding[i] = 1\n",
    "    return encoding"
   ]
  },
  {
   "cell_type": "code",
   "execution_count": 19,
   "metadata": {},
   "outputs": [],
   "source": [
    "def encode_output(gender):\n",
    "    return int(gender == 'Q6581072')"
   ]
  },
  {
   "cell_type": "code",
   "execution_count": 20,
   "metadata": {},
   "outputs": [],
   "source": [
    "df_fem_filtered['input'] = \"\"\n",
    "df_fem_filtered['input'] = df_fem_filtered.adjectives.map(lambda x: encode_input(x, most_common_adj))\n",
    "\n",
    "df_male_filtered_balanced['input'] = \"\"\n",
    "df_male_filtered_balanced['input'] = df_male_filtered_balanced.adjectives.map(lambda x: encode_input(x, most_common_adj))"
   ]
  },
  {
   "cell_type": "code",
   "execution_count": 21,
   "metadata": {},
   "outputs": [],
   "source": [
    "df_fem_filtered['output'] = \"\"\n",
    "df_fem_filtered['output'] = df_fem_filtered.gender.map(lambda x: encode_output(x))\n",
    "\n",
    "df_male_filtered_balanced['output'] = \"\"\n",
    "df_male_filtered_balanced['output'] = df_male_filtered_balanced.gender.map(lambda x: encode_output(x))"
   ]
  },
  {
   "cell_type": "markdown",
   "metadata": {},
   "source": [
    "Get data to train the model:"
   ]
  },
  {
   "cell_type": "code",
   "execution_count": 22,
   "metadata": {},
   "outputs": [],
   "source": [
    "X_fem = np.stack(df_fem_filtered.input)\n",
    "y_fem = np.stack(df_fem_filtered.output)\n",
    "\n",
    "X_male = np.stack(df_male_filtered_balanced.input)\n",
    "y_male = np.stack(df_male_filtered_balanced.output)"
   ]
  },
  {
   "cell_type": "code",
   "execution_count": 23,
   "metadata": {},
   "outputs": [],
   "source": [
    "X = np.concatenate((X_fem, X_male), axis=0)\n",
    "y = np.concatenate((y_fem, y_male), axis=0)"
   ]
  },
  {
   "cell_type": "code",
   "execution_count": 24,
   "metadata": {},
   "outputs": [
    {
     "data": {
      "text/plain": [
       "(1666, 124)"
      ]
     },
     "execution_count": 24,
     "metadata": {},
     "output_type": "execute_result"
    }
   ],
   "source": [
    "X.shape"
   ]
  },
  {
   "cell_type": "code",
   "execution_count": 25,
   "metadata": {},
   "outputs": [
    {
     "data": {
      "text/plain": [
       "(1666,)"
      ]
     },
     "execution_count": 25,
     "metadata": {},
     "output_type": "execute_result"
    }
   ],
   "source": [
    "y.shape"
   ]
  },
  {
   "cell_type": "code",
   "execution_count": 26,
   "metadata": {},
   "outputs": [],
   "source": [
    "x_train, x_test, y_train, y_test = train_test_split(X, y, random_state=1)"
   ]
  },
  {
   "cell_type": "markdown",
   "metadata": {},
   "source": [
    "Model:"
   ]
  },
  {
   "cell_type": "code",
   "execution_count": 27,
   "metadata": {},
   "outputs": [
    {
     "name": "stderr",
     "output_type": "stream",
     "text": [
      "/Users/nataliagullon/anaconda3/envs/ada/lib/python3.7/site-packages/sklearn/linear_model/logistic.py:432: FutureWarning: Default solver will be changed to 'lbfgs' in 0.22. Specify a solver to silence this warning.\n",
      "  FutureWarning)\n"
     ]
    },
    {
     "data": {
      "text/plain": [
       "LogisticRegression(C=1.0, class_weight=None, dual=False, fit_intercept=True,\n",
       "                   intercept_scaling=1, l1_ratio=None, max_iter=100,\n",
       "                   multi_class='warn', n_jobs=None, penalty='l2',\n",
       "                   random_state=None, solver='warn', tol=0.0001, verbose=0,\n",
       "                   warm_start=False)"
      ]
     },
     "execution_count": 27,
     "metadata": {},
     "output_type": "execute_result"
    }
   ],
   "source": [
    "lr = LogisticRegression()\n",
    "# train the model\n",
    "lr.fit(x_train, y_train)"
   ]
  },
  {
   "cell_type": "code",
   "execution_count": 28,
   "metadata": {},
   "outputs": [
    {
     "data": {
      "text/plain": [
       "array([1, 1, 1, 1, 0, 1, 1, 0, 1, 1, 1, 0, 1, 1, 0, 1, 1, 1, 0, 1, 0, 0,\n",
       "       0, 0, 1, 1, 0, 1, 1, 0, 1, 0, 1, 1, 0, 0, 0, 0, 0, 1, 1, 0, 0, 1,\n",
       "       1, 0, 0, 1, 1, 1, 0, 0, 0, 0, 1, 1, 1, 1, 1, 1, 1, 0, 0, 1, 0, 0,\n",
       "       1, 1, 1, 0, 1, 1, 1, 1, 1, 0, 1, 0, 1, 0, 1, 1, 0, 1, 1, 1, 1, 0,\n",
       "       0, 1, 1, 0, 0, 0, 0, 0, 1, 0, 1, 1, 1, 0, 1, 1, 0, 0, 0, 1, 1, 1,\n",
       "       0, 0, 1, 0, 0, 0, 0, 1, 1, 0, 0, 0, 0, 1, 0, 0, 0, 1, 1, 1, 1, 0,\n",
       "       1, 1, 1, 0, 1, 1, 1, 1, 0, 1, 1, 1, 1, 1, 0, 0, 0, 1, 1, 1, 0, 1,\n",
       "       1, 0, 0, 0, 1, 0, 0, 0, 1, 1, 0, 0, 0, 0, 0, 0, 1, 0, 1, 1, 1, 1,\n",
       "       0, 1, 0, 1, 1, 1, 1, 1, 0, 1, 1, 0, 1, 1, 0, 0, 0, 1, 1, 1, 1, 0,\n",
       "       0, 0, 1, 0, 0, 0, 1, 0, 0, 1, 1, 1, 1, 1, 1, 0, 0, 1, 0, 1, 1, 0,\n",
       "       0, 1, 0, 1, 0, 0, 1, 0, 0, 1, 1, 0, 1, 0, 0, 0, 0, 1, 1, 0, 1, 1,\n",
       "       1, 1, 0, 1, 0, 1, 0, 1, 0, 0, 0, 1, 0, 1, 1, 1, 1, 1, 0, 1, 0, 1,\n",
       "       0, 1, 0, 1, 1, 1, 1, 1, 1, 1, 1, 0, 0, 0, 0, 1, 0, 0, 1, 0, 1, 0,\n",
       "       1, 0, 1, 1, 1, 0, 1, 1, 0, 1, 0, 1, 0, 0, 1, 0, 0, 0, 0, 0, 0, 1,\n",
       "       0, 0, 1, 1, 0, 1, 1, 1, 1, 1, 0, 0, 1, 1, 0, 1, 0, 1, 1, 1, 0, 0,\n",
       "       0, 0, 0, 1, 1, 1, 0, 1, 0, 0, 0, 0, 0, 1, 0, 1, 1, 1, 0, 1, 1, 0,\n",
       "       1, 0, 1, 1, 0, 0, 1, 1, 1, 1, 0, 0, 0, 0, 1, 0, 0, 1, 0, 1, 1, 0,\n",
       "       0, 1, 0, 1, 1, 0, 1, 1, 1, 1, 0, 0, 1, 1, 1, 0, 1, 0, 1, 0, 0, 0,\n",
       "       0, 1, 1, 1, 1, 0, 0, 0, 1, 1, 1, 1, 1, 0, 1, 0, 1, 0, 0, 0, 1])"
      ]
     },
     "execution_count": 28,
     "metadata": {},
     "output_type": "execute_result"
    }
   ],
   "source": [
    "# predict\n",
    "y_pred = lr.predict(x_test)\n",
    "y_pred"
   ]
  },
  {
   "cell_type": "code",
   "execution_count": 29,
   "metadata": {},
   "outputs": [
    {
     "data": {
      "text/plain": [
       "array([[110, 103],\n",
       "       [ 82, 122]])"
      ]
     },
     "execution_count": 29,
     "metadata": {},
     "output_type": "execute_result"
    }
   ],
   "source": [
    "# confusion matrix (true - rows, pred - cols)\n",
    "cm = confusion_matrix(y_test, y_pred)\n",
    "cm"
   ]
  },
  {
   "cell_type": "code",
   "execution_count": 30,
   "metadata": {},
   "outputs": [
    {
     "data": {
      "text/plain": [
       "0.5563549160671463"
      ]
     },
     "execution_count": 30,
     "metadata": {},
     "output_type": "execute_result"
    }
   ],
   "source": [
    "# accuracy\n",
    "lr.score(x_test, y_test)"
   ]
  },
  {
   "cell_type": "code",
   "execution_count": 31,
   "metadata": {},
   "outputs": [
    {
     "data": {
      "text/plain": [
       "array([0.4768401, 0.5231599])"
      ]
     },
     "execution_count": 31,
     "metadata": {},
     "output_type": "execute_result"
    }
   ],
   "source": [
    "# get probabilities\n",
    "lr.predict_proba(x_test)[0]"
   ]
  },
  {
   "cell_type": "code",
   "execution_count": 32,
   "metadata": {},
   "outputs": [
    {
     "data": {
      "text/plain": [
       "[1.6617362860775489,\n",
       " 1.3234934490414088,\n",
       " 1.3104107198463313,\n",
       " 1.2194090896208623,\n",
       " 1.1995816684296743,\n",
       " 1.0863782413205696,\n",
       " 1.0843583354709745,\n",
       " 1.0699550866846046,\n",
       " 0.9968136375183463,\n",
       " 0.9915611611094585]"
      ]
     },
     "execution_count": 32,
     "metadata": {},
     "output_type": "execute_result"
    }
   ],
   "source": [
    "# get coefficients\n",
    "sort_coef = sorted(abs(lr.coef_[0]), reverse=True)\n",
    "sort_coef[:10]"
   ]
  }
 ],
 "metadata": {
  "kernelspec": {
   "display_name": "Python [conda env:ada] *",
   "language": "python",
   "name": "conda-env-ada-py"
  },
  "language_info": {
   "codemirror_mode": {
    "name": "ipython",
    "version": 3
   },
   "file_extension": ".py",
   "mimetype": "text/x-python",
   "name": "python",
   "nbconvert_exporter": "python",
   "pygments_lexer": "ipython3",
   "version": "3.7.4"
  }
 },
 "nbformat": 4,
 "nbformat_minor": 2
}
