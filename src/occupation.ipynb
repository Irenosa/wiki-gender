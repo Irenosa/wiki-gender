{
 "cells": [
  {
   "cell_type": "code",
   "execution_count": 1,
   "metadata": {},
   "outputs": [],
   "source": [
    "from pyspark.sql import *\n",
    "from pyspark.sql.functions import *\n",
    "from pyspark import SparkContext\n",
    "from createDataset.params import *\n",
    "import os\n",
    "import json\n",
    "import pandas as pd"
   ]
  },
  {
   "cell_type": "code",
   "execution_count": 2,
   "metadata": {},
   "outputs": [],
   "source": [
    "LOCAL_PATH = \"../data/\"\n",
    "WIKI_DATA = os.path.join(LOCAL_PATH, \"wikipedia_male_female.json\")"
   ]
  },
  {
   "cell_type": "code",
   "execution_count": 3,
   "metadata": {},
   "outputs": [],
   "source": [
    "# create the session\n",
    "spark = SparkSession.builder.getOrCreate()\n",
    "# create the context\n",
    "sc = spark.sparkContext\n",
    "\n",
    "df = spark.read.json(WIKI_DATA)"
   ]
  },
  {
   "cell_type": "code",
   "execution_count": 4,
   "metadata": {},
   "outputs": [
    {
     "name": "stdout",
     "output_type": "stream",
     "text": [
      "+--------+---------+--------------------+--------------------+--------------------+--------------------+\n",
      "|  gender|       id|                name|          occupation|            overview|          wiki-title|\n",
      "+--------+---------+--------------------+--------------------+--------------------+--------------------+\n",
      "|Q6581097|Q26998233|       A. E. Pickard|                  []|Albert Ernest Pic...|       A. E. Pickard|\n",
      "|Q6581097| Q4647941|       A. J. Masters|['Q177220', 'Q753...|Arthur John Masar...|       A. J. Masters|\n",
      "|Q6581097| Q4648064|A. L. A. Himmelwr...|['Q13582652', 'Q8...|Abraham Lincoln A...|A. L. A. Himmelwr...|\n",
      "|Q6581097| Q4647256|  A. N. Sattampillai|        ['Q1234713']|Arumai Nayakam Sa...|  A. N. Sattampillai|\n",
      "|Q6581097|   Q84136|         A. Vellayan|          ['Q43845']|A. Vellayan (born...|         A. Vellayan|\n",
      "|Q6581097|Q16030065|   A. W. Kjellstrand|        ['Q3246315']|August William Kj...|   A. W. Kjellstrand|\n",
      "|Q6581097| Q4661199|    Aage Fahrenholtz|       ['Q11338576']|Karl Aage Fahrenh...|    Aage Fahrenholtz|\n",
      "|Q6581097| Q4662188|     Aaron Ledgister|         ['Q937857']|Aaron Turone Ledg...|     Aaron Ledgister|\n",
      "|Q6581097|Q21176713|Aaron Manasses Mc...|          ['Q82955']|Aaron Manasses Mc...|Aaron Manasses Mc...|\n",
      "|Q6581097| Q1385420|         Aaron Pryor|       ['Q11338576']|Aaron Pryor (Octo...|         Aaron Pryor|\n",
      "|Q6581097|Q16216136|       Aaron Trahair|        ['Q3665646']|Aaron Trahair (bo...|       Aaron Trahair|\n",
      "|Q6581097|  Q303758|      Aatos Lehtonen|['Q937857', 'Q133...|Aatos Ensio Lehto...|      Aatos Lehtonen|\n",
      "|Q6581072| Q2820848|         Abby Kelley|['Q34074720', 'Q3...|Abby Kelley Foste...|         Abby Kelley|\n",
      "|Q6581072| Q4664478|            Abby May|['Q7019111', 'Q27...|Abigail  Alcott (...|            Abby May|\n",
      "|Q6581097|  Q423600|`Abd Allah ibn `A...|['Q12912932', 'Q2...|Abd Allah ibn Abb...| Abd Allah ibn Abbas|\n",
      "|Q6581097| Q2820911|Abd al-Rahman ibn...|         ['Q189290']|Ibn al-Ashʿath af...|Abd al-Rahman ibn...|\n",
      "|Q6581097| Q3561650|    Abdallah Mohamed|          ['Q82955']|Abdallah Mohamed ...|    Abdallah Mohamed|\n",
      "|Q6581097| Q1150220|Abdel Jabbar Dhif...|       ['Q11513337']|Abdel Jabbar Dhif...|Abdel Jabbar Dhif...|\n",
      "|Q6581097| Q4664769|   Abdel Moneim Amin|          ['Q82955']|Abdel Moneim Amin...|   Abdel Moneim Amin|\n",
      "|Q6581097| Q4664774|   Abdel Rahman Sule|          ['Q82955']|Abdel Rahman Sule...|   Abdel Rahman Sule|\n",
      "+--------+---------+--------------------+--------------------+--------------------+--------------------+\n",
      "only showing top 20 rows\n",
      "\n"
     ]
    }
   ],
   "source": [
    "df.show()"
   ]
  },
  {
   "cell_type": "code",
   "execution_count": 5,
   "metadata": {},
   "outputs": [],
   "source": [
    "df = df.withColumn(\"occupation\", explode(split(regexp_replace(regexp_replace(regexp_replace\\\n",
    "                                (regexp_replace(df['occupation'], '\\\\[', ''), '\\\\]', ''), ' ', ''),\"'\", \"\"), \",\")))"
   ]
  },
  {
   "cell_type": "code",
   "execution_count": 6,
   "metadata": {},
   "outputs": [
    {
     "name": "stdout",
     "output_type": "stream",
     "text": [
      "+--------+---------+--------------------+----------+--------------------+--------------------+\n",
      "|  gender|       id|                name|occupation|            overview|          wiki-title|\n",
      "+--------+---------+--------------------+----------+--------------------+--------------------+\n",
      "|Q6581097|Q26998233|       A. E. Pickard|          |Albert Ernest Pic...|       A. E. Pickard|\n",
      "|Q6581097| Q4647941|       A. J. Masters|   Q177220|Arthur John Masar...|       A. J. Masters|\n",
      "|Q6581097| Q4647941|       A. J. Masters|   Q753110|Arthur John Masar...|       A. J. Masters|\n",
      "|Q6581097| Q4648064|A. L. A. Himmelwr...| Q13582652|Abraham Lincoln A...|A. L. A. Himmelwr...|\n",
      "|Q6581097| Q4648064|A. L. A. Himmelwr...|    Q81096|Abraham Lincoln A...|A. L. A. Himmelwr...|\n",
      "|Q6581097| Q4647256|  A. N. Sattampillai|  Q1234713|Arumai Nayakam Sa...|  A. N. Sattampillai|\n",
      "|Q6581097|   Q84136|         A. Vellayan|    Q43845|A. Vellayan (born...|         A. Vellayan|\n",
      "|Q6581097|Q16030065|   A. W. Kjellstrand|  Q3246315|August William Kj...|   A. W. Kjellstrand|\n",
      "|Q6581097| Q4661199|    Aage Fahrenholtz| Q11338576|Karl Aage Fahrenh...|    Aage Fahrenholtz|\n",
      "|Q6581097| Q4662188|     Aaron Ledgister|   Q937857|Aaron Turone Ledg...|     Aaron Ledgister|\n",
      "|Q6581097|Q21176713|Aaron Manasses Mc...|    Q82955|Aaron Manasses Mc...|Aaron Manasses Mc...|\n",
      "|Q6581097| Q1385420|         Aaron Pryor| Q11338576|Aaron Pryor (Octo...|         Aaron Pryor|\n",
      "|Q6581097|Q16216136|       Aaron Trahair|  Q3665646|Aaron Trahair (bo...|       Aaron Trahair|\n",
      "|Q6581097|  Q303758|      Aatos Lehtonen|   Q937857|Aatos Ensio Lehto...|      Aatos Lehtonen|\n",
      "|Q6581097|  Q303758|      Aatos Lehtonen| Q13365117|Aatos Ensio Lehto...|      Aatos Lehtonen|\n",
      "|Q6581097|  Q303758|      Aatos Lehtonen| Q18702210|Aatos Ensio Lehto...|      Aatos Lehtonen|\n",
      "|Q6581097|  Q303758|      Aatos Lehtonen|  Q3665646|Aatos Ensio Lehto...|      Aatos Lehtonen|\n",
      "|Q6581097|  Q303758|      Aatos Lehtonen|   Q628099|Aatos Ensio Lehto...|      Aatos Lehtonen|\n",
      "|Q6581072| Q2820848|         Abby Kelley| Q34074720|Abby Kelley Foste...|         Abby Kelley|\n",
      "|Q6581072| Q2820848|         Abby Kelley|   Q322170|Abby Kelley Foste...|         Abby Kelley|\n",
      "+--------+---------+--------------------+----------+--------------------+--------------------+\n",
      "only showing top 20 rows\n",
      "\n"
     ]
    }
   ],
   "source": [
    "df.show()"
   ]
  },
  {
   "cell_type": "code",
   "execution_count": 7,
   "metadata": {},
   "outputs": [],
   "source": [
    "df = df.filter(col(\"occupation\") != '')"
   ]
  },
  {
   "cell_type": "code",
   "execution_count": 8,
   "metadata": {},
   "outputs": [
    {
     "name": "stdout",
     "output_type": "stream",
     "text": [
      "+--------+---------+--------------------+----------+--------------------+--------------------+\n",
      "|  gender|       id|                name|occupation|            overview|          wiki-title|\n",
      "+--------+---------+--------------------+----------+--------------------+--------------------+\n",
      "|Q6581097| Q4647941|       A. J. Masters|   Q177220|Arthur John Masar...|       A. J. Masters|\n",
      "|Q6581097| Q4647941|       A. J. Masters|   Q753110|Arthur John Masar...|       A. J. Masters|\n",
      "|Q6581097| Q4648064|A. L. A. Himmelwr...| Q13582652|Abraham Lincoln A...|A. L. A. Himmelwr...|\n",
      "|Q6581097| Q4648064|A. L. A. Himmelwr...|    Q81096|Abraham Lincoln A...|A. L. A. Himmelwr...|\n",
      "|Q6581097| Q4647256|  A. N. Sattampillai|  Q1234713|Arumai Nayakam Sa...|  A. N. Sattampillai|\n",
      "|Q6581097|   Q84136|         A. Vellayan|    Q43845|A. Vellayan (born...|         A. Vellayan|\n",
      "|Q6581097|Q16030065|   A. W. Kjellstrand|  Q3246315|August William Kj...|   A. W. Kjellstrand|\n",
      "|Q6581097| Q4661199|    Aage Fahrenholtz| Q11338576|Karl Aage Fahrenh...|    Aage Fahrenholtz|\n",
      "|Q6581097| Q4662188|     Aaron Ledgister|   Q937857|Aaron Turone Ledg...|     Aaron Ledgister|\n",
      "|Q6581097|Q21176713|Aaron Manasses Mc...|    Q82955|Aaron Manasses Mc...|Aaron Manasses Mc...|\n",
      "|Q6581097| Q1385420|         Aaron Pryor| Q11338576|Aaron Pryor (Octo...|         Aaron Pryor|\n",
      "|Q6581097|Q16216136|       Aaron Trahair|  Q3665646|Aaron Trahair (bo...|       Aaron Trahair|\n",
      "|Q6581097|  Q303758|      Aatos Lehtonen|   Q937857|Aatos Ensio Lehto...|      Aatos Lehtonen|\n",
      "|Q6581097|  Q303758|      Aatos Lehtonen| Q13365117|Aatos Ensio Lehto...|      Aatos Lehtonen|\n",
      "|Q6581097|  Q303758|      Aatos Lehtonen| Q18702210|Aatos Ensio Lehto...|      Aatos Lehtonen|\n",
      "|Q6581097|  Q303758|      Aatos Lehtonen|  Q3665646|Aatos Ensio Lehto...|      Aatos Lehtonen|\n",
      "|Q6581097|  Q303758|      Aatos Lehtonen|   Q628099|Aatos Ensio Lehto...|      Aatos Lehtonen|\n",
      "|Q6581072| Q2820848|         Abby Kelley| Q34074720|Abby Kelley Foste...|         Abby Kelley|\n",
      "|Q6581072| Q2820848|         Abby Kelley|   Q322170|Abby Kelley Foste...|         Abby Kelley|\n",
      "|Q6581072| Q4664478|            Abby May|  Q7019111|Abigail  Alcott (...|            Abby May|\n",
      "+--------+---------+--------------------+----------+--------------------+--------------------+\n",
      "only showing top 20 rows\n",
      "\n"
     ]
    }
   ],
   "source": [
    "df.show()"
   ]
  },
  {
   "cell_type": "code",
   "execution_count": 9,
   "metadata": {},
   "outputs": [],
   "source": [
    "dict_occupations = {}\n",
    "\n",
    "with open('../data/dict_occupations.json') as json_file:\n",
    "    content = json_file.readlines()\n",
    "    for line in content:\n",
    "        occ = json.loads(line)\n",
    "        dict_occupations.update(occ)"
   ]
  },
  {
   "cell_type": "code",
   "execution_count": 10,
   "metadata": {},
   "outputs": [],
   "source": [
    "def get_occupation(occ):\n",
    "    return dict_occupations.get(occ, \"other\")"
   ]
  },
  {
   "cell_type": "code",
   "execution_count": 11,
   "metadata": {},
   "outputs": [],
   "source": [
    "# get the adjectives\n",
    "udf_get_occ = udf(get_occupation)\n",
    "df = df.withColumn(\"occupation\", udf_get_occ(\"occupation\"))"
   ]
  },
  {
   "cell_type": "code",
   "execution_count": 12,
   "metadata": {},
   "outputs": [
    {
     "name": "stdout",
     "output_type": "stream",
     "text": [
      "+--------+---------+--------------------+--------------------+--------------------+--------------------+\n",
      "|  gender|       id|                name|          occupation|            overview|          wiki-title|\n",
      "+--------+---------+--------------------+--------------------+--------------------+--------------------+\n",
      "|Q6581097| Q4647941|       A. J. Masters|              singer|Arthur John Masar...|       A. J. Masters|\n",
      "|Q6581097| Q4647941|       A. J. Masters|          songwriter|Arthur John Masar...|       A. J. Masters|\n",
      "|Q6581097| Q4648064|A. L. A. Himmelwr...|      civil engineer|Abraham Lincoln A...|A. L. A. Himmelwr...|\n",
      "|Q6581097| Q4648064|A. L. A. Himmelwr...|            engineer|Abraham Lincoln A...|A. L. A. Himmelwr...|\n",
      "|Q6581097| Q4647256|  A. N. Sattampillai|          theologian|Arumai Nayakam Sa...|  A. N. Sattampillai|\n",
      "|Q6581097|   Q84136|         A. Vellayan|      businessperson|A. Vellayan (born...|         A. Vellayan|\n",
      "|Q6581097|Q16030065|   A. W. Kjellstrand|          head coach|August William Kj...|   A. W. Kjellstrand|\n",
      "|Q6581097| Q4661199|    Aage Fahrenholtz|               boxer|Karl Aage Fahrenh...|    Aage Fahrenholtz|\n",
      "|Q6581097| Q4662188|     Aaron Ledgister|association footb...|Aaron Turone Ledg...|     Aaron Ledgister|\n",
      "|Q6581097|Q21176713|Aaron Manasses Mc...|          politician|Aaron Manasses Mc...|Aaron Manasses Mc...|\n",
      "|Q6581097| Q1385420|         Aaron Pryor|               boxer|Aaron Pryor (Octo...|         Aaron Pryor|\n",
      "|Q6581097|Q16216136|       Aaron Trahair|   basketball player|Aaron Trahair (bo...|       Aaron Trahair|\n",
      "|Q6581097|  Q303758|      Aatos Lehtonen|association footb...|Aatos Ensio Lehto...|      Aatos Lehtonen|\n",
      "|Q6581097|  Q303758|      Aatos Lehtonen|     handball player|Aatos Ensio Lehto...|      Aatos Lehtonen|\n",
      "|Q6581097|  Q303758|      Aatos Lehtonen|        bandy player|Aatos Ensio Lehto...|      Aatos Lehtonen|\n",
      "|Q6581097|  Q303758|      Aatos Lehtonen|   basketball player|Aatos Ensio Lehto...|      Aatos Lehtonen|\n",
      "|Q6581097|  Q303758|      Aatos Lehtonen|association footb...|Aatos Ensio Lehto...|      Aatos Lehtonen|\n",
      "|Q6581072| Q2820848|         Abby Kelley|            feminist|Abby Kelley Foste...|         Abby Kelley|\n",
      "|Q6581072| Q2820848|         Abby Kelley|         suffragette|Abby Kelley Foste...|         Abby Kelley|\n",
      "|Q6581072| Q4664478|            Abby May|       social worker|Abigail  Alcott (...|            Abby May|\n",
      "+--------+---------+--------------------+--------------------+--------------------+--------------------+\n",
      "only showing top 20 rows\n",
      "\n"
     ]
    }
   ],
   "source": [
    "df.show()"
   ]
  },
  {
   "cell_type": "code",
   "execution_count": 13,
   "metadata": {},
   "outputs": [],
   "source": [
    "with open('../data/dict_categories_occupations.json') as json_file:\n",
    "    line = json_file.readline()\n",
    "    dict_cat_occ = json.loads(line)"
   ]
  },
  {
   "cell_type": "code",
   "execution_count": 14,
   "metadata": {},
   "outputs": [],
   "source": [
    "def get_occupation_category(occ):\n",
    "    return dict_cat_occ.get(occ, \"Other\")"
   ]
  },
  {
   "cell_type": "code",
   "execution_count": 15,
   "metadata": {},
   "outputs": [],
   "source": [
    "# get the adjectives\n",
    "udf_get_occ_cat = udf(get_occupation_category)\n",
    "df = df.withColumn(\"field\", udf_get_occ_cat(\"occupation\"))"
   ]
  },
  {
   "cell_type": "code",
   "execution_count": 16,
   "metadata": {},
   "outputs": [],
   "source": [
    "df = df.filter(col(\"field\") != \"Other\")\n",
    "df = df.select(\"gender\", \"id\", \"field\")"
   ]
  },
  {
   "cell_type": "code",
   "execution_count": 17,
   "metadata": {},
   "outputs": [
    {
     "name": "stdout",
     "output_type": "stream",
     "text": [
      "+--------+---------+--------------+\n",
      "|  gender|       id|         field|\n",
      "+--------+---------+--------------+\n",
      "|Q6581097| Q6812078|      Politics|\n",
      "|Q6581072| Q3617827|        Artist|\n",
      "|Q6581097|Q19873347|        Sports|\n",
      "|Q6581097| Q2883676|      Military|\n",
      "|Q6581097| Q3638477|      Religion|\n",
      "|Q6581097|Q19840044|      Politics|\n",
      "|Q6581072| Q5031111|Business & Law|\n",
      "|Q6581097|Q21061864|        Sports|\n",
      "|Q6581097| Q5272725|        Sports|\n",
      "|Q6581072| Q5322029|        Artist|\n",
      "|Q6581097| Q5339568|        Sports|\n",
      "|Q6581097|Q18280917|     Education|\n",
      "|Q6581097| Q5525191|Business & Law|\n",
      "|Q6581097| Q5538003|        Sports|\n",
      "|Q6581097|  Q216115|        Artist|\n",
      "|Q6581097| Q1581561|        Artist|\n",
      "|Q6581097|Q16066494|Business & Law|\n",
      "|Q6581097| Q5932467|        Artist|\n",
      "|Q6581097| Q5982013|        Sports|\n",
      "|Q6581097|Q28024774|        Sports|\n",
      "+--------+---------+--------------+\n",
      "only showing top 20 rows\n",
      "\n"
     ]
    }
   ],
   "source": [
    "df = df.dropDuplicates()\n",
    "df.show()"
   ]
  },
  {
   "cell_type": "code",
   "execution_count": 18,
   "metadata": {},
   "outputs": [
    {
     "name": "stdout",
     "output_type": "stream",
     "text": [
      "+---------------+------+\n",
      "|          field| count|\n",
      "+---------------+------+\n",
      "|         Sports|381505|\n",
      "|         Artist|351666|\n",
      "|       Politics|205882|\n",
      "| Business & Law| 82712|\n",
      "|Social Sciences| 77480|\n",
      "|      Scientist| 69893|\n",
      "|      Education| 42564|\n",
      "|       Military| 35055|\n",
      "|       Religion| 26789|\n",
      "|          Model| 10820|\n",
      "+---------------+------+\n",
      "\n"
     ]
    }
   ],
   "source": [
    "occupation_counts = df.groupBy(\"field\").agg(count(\"*\").alias(\"count\")).sort(desc(\"count\"))\n",
    "occupation_counts.show()"
   ]
  },
  {
   "cell_type": "code",
   "execution_count": 19,
   "metadata": {},
   "outputs": [
    {
     "data": {
      "text/plain": [
       "10"
      ]
     },
     "execution_count": 19,
     "metadata": {},
     "output_type": "execute_result"
    }
   ],
   "source": [
    "occupation_counts.count()"
   ]
  },
  {
   "cell_type": "code",
   "execution_count": 20,
   "metadata": {},
   "outputs": [
    {
     "data": {
      "text/html": [
       "<div>\n",
       "<style scoped>\n",
       "    .dataframe tbody tr th:only-of-type {\n",
       "        vertical-align: middle;\n",
       "    }\n",
       "\n",
       "    .dataframe tbody tr th {\n",
       "        vertical-align: top;\n",
       "    }\n",
       "\n",
       "    .dataframe thead th {\n",
       "        text-align: right;\n",
       "    }\n",
       "</style>\n",
       "<table border=\"1\" class=\"dataframe\">\n",
       "  <thead>\n",
       "    <tr style=\"text-align: right;\">\n",
       "      <th></th>\n",
       "      <th>field</th>\n",
       "      <th>count</th>\n",
       "    </tr>\n",
       "  </thead>\n",
       "  <tbody>\n",
       "    <tr>\n",
       "      <td>0</td>\n",
       "      <td>Sports</td>\n",
       "      <td>381505</td>\n",
       "    </tr>\n",
       "    <tr>\n",
       "      <td>1</td>\n",
       "      <td>Artist</td>\n",
       "      <td>351666</td>\n",
       "    </tr>\n",
       "    <tr>\n",
       "      <td>2</td>\n",
       "      <td>Politics</td>\n",
       "      <td>205882</td>\n",
       "    </tr>\n",
       "    <tr>\n",
       "      <td>3</td>\n",
       "      <td>Business &amp; Law</td>\n",
       "      <td>82712</td>\n",
       "    </tr>\n",
       "    <tr>\n",
       "      <td>4</td>\n",
       "      <td>Social Sciences</td>\n",
       "      <td>77480</td>\n",
       "    </tr>\n",
       "    <tr>\n",
       "      <td>5</td>\n",
       "      <td>Scientist</td>\n",
       "      <td>69893</td>\n",
       "    </tr>\n",
       "    <tr>\n",
       "      <td>6</td>\n",
       "      <td>Education</td>\n",
       "      <td>42564</td>\n",
       "    </tr>\n",
       "    <tr>\n",
       "      <td>7</td>\n",
       "      <td>Military</td>\n",
       "      <td>35055</td>\n",
       "    </tr>\n",
       "    <tr>\n",
       "      <td>8</td>\n",
       "      <td>Religion</td>\n",
       "      <td>26789</td>\n",
       "    </tr>\n",
       "    <tr>\n",
       "      <td>9</td>\n",
       "      <td>Model</td>\n",
       "      <td>10820</td>\n",
       "    </tr>\n",
       "  </tbody>\n",
       "</table>\n",
       "</div>"
      ],
      "text/plain": [
       "             field   count\n",
       "0           Sports  381505\n",
       "1           Artist  351666\n",
       "2         Politics  205882\n",
       "3   Business & Law   82712\n",
       "4  Social Sciences   77480\n",
       "5        Scientist   69893\n",
       "6        Education   42564\n",
       "7         Military   35055\n",
       "8         Religion   26789\n",
       "9            Model   10820"
      ]
     },
     "execution_count": 20,
     "metadata": {},
     "output_type": "execute_result"
    }
   ],
   "source": [
    "occ_counts_pd = occupation_counts.toPandas()\n",
    "occ_counts_pd"
   ]
  },
  {
   "cell_type": "code",
   "execution_count": 21,
   "metadata": {},
   "outputs": [],
   "source": [
    "pl = occ_counts_pd.plot(kind=\"bar\", x=\"field\", y=\"count\", figsize=(10, 7), log=False, alpha=0.5, color=\"green\")\n",
    "pl.set_xlabel(\"Field of occupation\")\n",
    "pl.set_ylabel(\"Number of biographies\")\n",
    "pl.set_title(\"Number of biographies by field of occupation\");"
   ]
  },
  {
   "cell_type": "code",
   "execution_count": 22,
   "metadata": {},
   "outputs": [
    {
     "name": "stdout",
     "output_type": "stream",
     "text": [
      "27.38% of the entries work in the artistic field\n",
      "29.70 % of the entries work in the sports field\n",
      "16.03 % of the entries work in the politics field\n"
     ]
    }
   ],
   "source": [
    "n_total = occ_counts_pd['count'].sum()\n",
    "n_artist = occ_counts_pd[occ_counts_pd['field'] == 'Artist']['count'].values[0]\n",
    "n_sports = occ_counts_pd[occ_counts_pd['field'] == 'Sports']['count'].values[0]\n",
    "n_politics = occ_counts_pd[occ_counts_pd['field'] == 'Politics']['count'].values[0]\n",
    "\n",
    "print(\"{:.2f}% of the entries work in the artistic field\".format(n_artist/n_total*100))\n",
    "print(\"{:.2f} % of the entries work in the sports field\".format(n_sports/n_total*100))\n",
    "print(\"{:.2f} % of the entries work in the politics field\".format(n_politics/n_total*100))"
   ]
  },
  {
   "cell_type": "code",
   "execution_count": 23,
   "metadata": {},
   "outputs": [
    {
     "name": "stdout",
     "output_type": "stream",
     "text": [
      "+---------------+--------+------+\n",
      "|          field|  gender| count|\n",
      "+---------------+--------+------+\n",
      "|         Sports|Q6581097|345506|\n",
      "|         Artist|Q6581097|256905|\n",
      "|       Politics|Q6581097|182148|\n",
      "|         Artist|Q6581072| 94761|\n",
      "| Business & Law|Q6581097| 75121|\n",
      "|Social Sciences|Q6581097| 63207|\n",
      "|      Scientist|Q6581097| 63082|\n",
      "|         Sports|Q6581072| 35999|\n",
      "|      Education|Q6581097| 35815|\n",
      "|       Military|Q6581097| 34501|\n",
      "|       Religion|Q6581097| 26407|\n",
      "|       Politics|Q6581072| 23734|\n",
      "|Social Sciences|Q6581072| 14273|\n",
      "|          Model|Q6581072|  8804|\n",
      "| Business & Law|Q6581072|  7591|\n",
      "|      Scientist|Q6581072|  6811|\n",
      "|      Education|Q6581072|  6749|\n",
      "|          Model|Q6581097|  2016|\n",
      "|       Military|Q6581072|   554|\n",
      "|       Religion|Q6581072|   382|\n",
      "+---------------+--------+------+\n",
      "\n"
     ]
    }
   ],
   "source": [
    "occupation_counts_by_gender = df.groupBy(\"field\", \"gender\").agg(count(\"*\").alias(\"count\")).sort(desc(\"count\"))\n",
    "occupation_counts_by_gender.show()"
   ]
  },
  {
   "cell_type": "code",
   "execution_count": 24,
   "metadata": {},
   "outputs": [],
   "source": [
    "with open('../data/dict_genders.json') as json_file:\n",
    "    line = json_file.readline()\n",
    "    dict_genders = json.loads(line)"
   ]
  },
  {
   "cell_type": "code",
   "execution_count": 25,
   "metadata": {},
   "outputs": [],
   "source": [
    "def get_gender(gender):\n",
    "    return dict_genders.get(gender)"
   ]
  },
  {
   "cell_type": "code",
   "execution_count": 26,
   "metadata": {},
   "outputs": [
    {
     "name": "stdout",
     "output_type": "stream",
     "text": [
      "+---------------+------+------+\n",
      "|          field|gender| count|\n",
      "+---------------+------+------+\n",
      "|         Sports|  male|345506|\n",
      "|         Artist|  male|256905|\n",
      "|       Politics|  male|182148|\n",
      "|         Artist|female| 94761|\n",
      "| Business & Law|  male| 75121|\n",
      "|Social Sciences|  male| 63207|\n",
      "|      Scientist|  male| 63082|\n",
      "|         Sports|female| 35999|\n",
      "|      Education|  male| 35815|\n",
      "|       Military|  male| 34501|\n",
      "|       Religion|  male| 26407|\n",
      "|       Politics|female| 23734|\n",
      "|Social Sciences|female| 14273|\n",
      "|          Model|female|  8804|\n",
      "| Business & Law|female|  7591|\n",
      "|      Scientist|female|  6811|\n",
      "|      Education|female|  6749|\n",
      "|          Model|  male|  2016|\n",
      "|       Military|female|   554|\n",
      "|       Religion|female|   382|\n",
      "+---------------+------+------+\n",
      "\n"
     ]
    }
   ],
   "source": [
    "# get the adjectives\n",
    "udf_get_gender = udf(get_gender)\n",
    "occupation_counts_by_gender = occupation_counts_by_gender.withColumn(\"gender\", udf_get_gender(\"gender\"))\n",
    "occupation_counts_by_gender.show()"
   ]
  },
  {
   "cell_type": "code",
   "execution_count": 27,
   "metadata": {},
   "outputs": [
    {
     "data": {
      "text/html": [
       "<div>\n",
       "<style scoped>\n",
       "    .dataframe tbody tr th:only-of-type {\n",
       "        vertical-align: middle;\n",
       "    }\n",
       "\n",
       "    .dataframe tbody tr th {\n",
       "        vertical-align: top;\n",
       "    }\n",
       "\n",
       "    .dataframe thead th {\n",
       "        text-align: right;\n",
       "    }\n",
       "</style>\n",
       "<table border=\"1\" class=\"dataframe\">\n",
       "  <thead>\n",
       "    <tr style=\"text-align: right;\">\n",
       "      <th></th>\n",
       "      <th>field</th>\n",
       "      <th>gender</th>\n",
       "      <th>count</th>\n",
       "    </tr>\n",
       "  </thead>\n",
       "  <tbody>\n",
       "    <tr>\n",
       "      <td>0</td>\n",
       "      <td>Artist</td>\n",
       "      <td>male</td>\n",
       "      <td>256905</td>\n",
       "    </tr>\n",
       "    <tr>\n",
       "      <td>1</td>\n",
       "      <td>Artist</td>\n",
       "      <td>female</td>\n",
       "      <td>94761</td>\n",
       "    </tr>\n",
       "    <tr>\n",
       "      <td>2</td>\n",
       "      <td>Business &amp; Law</td>\n",
       "      <td>male</td>\n",
       "      <td>75121</td>\n",
       "    </tr>\n",
       "    <tr>\n",
       "      <td>3</td>\n",
       "      <td>Business &amp; Law</td>\n",
       "      <td>female</td>\n",
       "      <td>7591</td>\n",
       "    </tr>\n",
       "    <tr>\n",
       "      <td>4</td>\n",
       "      <td>Education</td>\n",
       "      <td>female</td>\n",
       "      <td>6749</td>\n",
       "    </tr>\n",
       "    <tr>\n",
       "      <td>5</td>\n",
       "      <td>Education</td>\n",
       "      <td>male</td>\n",
       "      <td>35815</td>\n",
       "    </tr>\n",
       "    <tr>\n",
       "      <td>6</td>\n",
       "      <td>Military</td>\n",
       "      <td>male</td>\n",
       "      <td>34501</td>\n",
       "    </tr>\n",
       "    <tr>\n",
       "      <td>7</td>\n",
       "      <td>Military</td>\n",
       "      <td>female</td>\n",
       "      <td>554</td>\n",
       "    </tr>\n",
       "    <tr>\n",
       "      <td>8</td>\n",
       "      <td>Model</td>\n",
       "      <td>male</td>\n",
       "      <td>2016</td>\n",
       "    </tr>\n",
       "    <tr>\n",
       "      <td>9</td>\n",
       "      <td>Model</td>\n",
       "      <td>female</td>\n",
       "      <td>8804</td>\n",
       "    </tr>\n",
       "    <tr>\n",
       "      <td>10</td>\n",
       "      <td>Politics</td>\n",
       "      <td>male</td>\n",
       "      <td>182148</td>\n",
       "    </tr>\n",
       "    <tr>\n",
       "      <td>11</td>\n",
       "      <td>Politics</td>\n",
       "      <td>female</td>\n",
       "      <td>23734</td>\n",
       "    </tr>\n",
       "    <tr>\n",
       "      <td>12</td>\n",
       "      <td>Religion</td>\n",
       "      <td>female</td>\n",
       "      <td>382</td>\n",
       "    </tr>\n",
       "    <tr>\n",
       "      <td>13</td>\n",
       "      <td>Religion</td>\n",
       "      <td>male</td>\n",
       "      <td>26407</td>\n",
       "    </tr>\n",
       "    <tr>\n",
       "      <td>14</td>\n",
       "      <td>Scientist</td>\n",
       "      <td>female</td>\n",
       "      <td>6811</td>\n",
       "    </tr>\n",
       "    <tr>\n",
       "      <td>15</td>\n",
       "      <td>Scientist</td>\n",
       "      <td>male</td>\n",
       "      <td>63082</td>\n",
       "    </tr>\n",
       "    <tr>\n",
       "      <td>16</td>\n",
       "      <td>Social Sciences</td>\n",
       "      <td>male</td>\n",
       "      <td>63207</td>\n",
       "    </tr>\n",
       "    <tr>\n",
       "      <td>17</td>\n",
       "      <td>Social Sciences</td>\n",
       "      <td>female</td>\n",
       "      <td>14273</td>\n",
       "    </tr>\n",
       "    <tr>\n",
       "      <td>18</td>\n",
       "      <td>Sports</td>\n",
       "      <td>female</td>\n",
       "      <td>35999</td>\n",
       "    </tr>\n",
       "    <tr>\n",
       "      <td>19</td>\n",
       "      <td>Sports</td>\n",
       "      <td>male</td>\n",
       "      <td>345506</td>\n",
       "    </tr>\n",
       "  </tbody>\n",
       "</table>\n",
       "</div>"
      ],
      "text/plain": [
       "              field  gender   count\n",
       "0            Artist    male  256905\n",
       "1            Artist  female   94761\n",
       "2    Business & Law    male   75121\n",
       "3    Business & Law  female    7591\n",
       "4         Education  female    6749\n",
       "5         Education    male   35815\n",
       "6          Military    male   34501\n",
       "7          Military  female     554\n",
       "8             Model    male    2016\n",
       "9             Model  female    8804\n",
       "10         Politics    male  182148\n",
       "11         Politics  female   23734\n",
       "12         Religion  female     382\n",
       "13         Religion    male   26407\n",
       "14        Scientist  female    6811\n",
       "15        Scientist    male   63082\n",
       "16  Social Sciences    male   63207\n",
       "17  Social Sciences  female   14273\n",
       "18           Sports  female   35999\n",
       "19           Sports    male  345506"
      ]
     },
     "execution_count": 27,
     "metadata": {},
     "output_type": "execute_result"
    }
   ],
   "source": [
    "occ_by_gender_pd = occupation_counts_by_gender.toPandas()\n",
    "occ_by_gender_pd = occ_by_gender_pd.sort_values(by=\"field\").reset_index(drop=True)\n",
    "occ_by_gender_pd"
   ]
  },
  {
   "cell_type": "code",
   "execution_count": 28,
   "metadata": {},
   "outputs": [
    {
     "data": {
      "image/png": "[encoded data removed]",
      "text/plain": [
       "<Figure size 720x504 with 1 Axes>"
      ]
     },
     "metadata": {
      "needs_background": "light"
     },
     "output_type": "display_data"
    }
   ],
   "source": [
    "male_count = occ_by_gender_pd[occ_by_gender_pd['gender'] == 'male']['count'].tolist()\n",
    "female_count = occ_by_gender_pd[occ_by_gender_pd['gender'] == 'female']['count'].tolist()\n",
    "index = occ_by_gender_pd['field'].unique().tolist()\n",
    "occ_by_gender = pd.DataFrame({'male': male_count, 'female': female_count}, index=index)\n",
    "\n",
    "pl = occ_by_gender.plot(kind=\"bar\", figsize=(10, 7), log=False, alpha=0.5, color=[\"green\", \"red\"])\n",
    "pl.set_xlabel(\"Field of occupation\")\n",
    "pl.set_ylabel(\"Number of biographies\")\n",
    "pl.set_title(\"Number of biographies by gender and field of occupation\");"
   ]
  }
 ],
 "metadata": {
  "kernelspec": {
   "display_name": "Python [conda env:ada] *",
   "language": "python",
   "name": "conda-env-ada-py"
  },
  "language_info": {
   "codemirror_mode": {
    "name": "ipython",
    "version": 3
   },
   "file_extension": ".py",
   "mimetype": "text/x-python",
   "name": "python",
   "nbconvert_exporter": "python",
   "pygments_lexer": "ipython3",
   "version": "3.7.4"
  }
 },
 "nbformat": 4,
 "nbformat_minor": 2
}
